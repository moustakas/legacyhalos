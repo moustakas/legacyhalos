{
 "cells": [
  {
   "cell_type": "markdown",
   "metadata": {},
   "source": [
    "## TNG300-1 Profiles\n",
    "#### This notebook aims to produce the stellar mass density profiles of central galaxies drawn from the TNG300-1 simulation."
   ]
  },
  {
   "cell_type": "markdown",
   "metadata": {},
   "source": [
    "#### **Data files and organization**\n",
    "\n",
    "1. Create an environment variable `$TNG_DATA` pointing to the top-level directory of the Illustris data and choose a simulation, for example TNG300-1. Next, create the directory structure you need (see also the tutorial for more, potentially confusing, details):\n",
    "\n",
    "    cd $TNG_DATA  \n",
    "    mkdir TNG300-1  \n",
    "    mkdir TNG300-1/output  \n",
    "    mkdir -p TNG300-1/postprocessing/offsets  \n",
    "\n",
    "2. From the top-level page for this simulation, e.g., http://www.tng-project.org/data/downloads/TNG300-1:\n",
    "\n",
    "    2a. Grab the appropriate simulation.hdf5 file.  \n",
    "    2b. Choose a snapshot number, typically the one corresponding to z=0 (here, equal to snapshot-99), and download the appropriate offsets_099.hdf5 file into the postprocessing/offsets directory.  \n",
    "    2c. Grab all the group catalogs for this snapshot and put them into the output/groups_099 directory.\n",
    "\n"
   ]
  },
  {
   "cell_type": "markdown",
   "metadata": {},
   "source": [
    "You should modify your basePath as necessary to point to your local files, however you have organized them. By default they assume the following directory structure: (e.g for snapshot 99):  \n",
    "* group catalogs: `basePath/groups_099/groups_099.N.hdf5`\n",
    "\n",
    "* snapshots:  `basePath/snapdir_099/snap_099.N.hdf5`   "
   ]
  },
  {
   "cell_type": "markdown",
   "metadata": {},
   "source": [
    "**Initial imports**"
   ]
  },
  {
   "cell_type": "code",
   "execution_count": 67,
   "metadata": {},
   "outputs": [],
   "source": [
    "import os, time\n",
    "import illustris_python as il\n",
    "import h5py\n",
    "import numpy as np\n",
    "import matplotlib.pyplot as plt\n",
    "%matplotlib inline"
   ]
  },
  {
   "cell_type": "code",
   "execution_count": 66,
   "metadata": {},
   "outputs": [],
   "source": [
    "import requests\n",
    "\n",
    "baseUrl = 'http://www.illustris-project.org/api/'\n",
    "headers = {\"api-key\":\"e74bff8a3f17fa1497eb8c11243b2b87\"}\n",
    "\n",
    "def get(path, params=None):\n",
    "    # make HTTP GET request to path\n",
    "    r = requests.get(path, params=params, headers=headers)\n",
    "\n",
    "    # raise exception if response code is not HTTP SUCCESS (200)\n",
    "    r.raise_for_status()\n",
    "    if r.headers['content-type'] == 'application/json':\n",
    "        return r.json() # parse json responses automatically\n",
    "    return r"
   ]
  },
  {
   "cell_type": "markdown",
   "metadata": {},
   "source": [
    "### Read all the subhalos in snapshot 99 (corresponding to z=0).\n",
    "\n",
    "* http://www.tng-project.org/data/downloads/TNG300-1/\n",
    "* http://www.tng-project.org/data/docs/specifications/#sec1a\n",
    "        \n",
    "Every HDF5 snapshot contains several groups: \"Header\", \"Parameters\", \"Configuration\", and five \n",
    "\"PartTypeX\" groups, for the following particle types (the DM only runs have a single PartType1 group):\n",
    "\n",
    "    PartType0 - GAS\n",
    "    PartType1 - DM\n",
    "    PartType2 - (unused)\n",
    "    PartType3 - TRACERS\n",
    "    PartType4 - STARS & WIND PARTICLES\n",
    "    PartType5 - BLACK HOLES"
   ]
  },
  {
   "cell_type": "markdown",
   "metadata": {},
   "source": [
    "**There are two requirements to use a simulation.hdf5 file**\n",
    "\n",
    "* actual data files must be organized exactly as suggested and described in the example scripts tutorial (i.e., an \"output\" directory containing a \"snapdir_099\" subdirectory and a \"group_099\" subdirectory, along with a \"postprocessing\" directory containing, among others, an \"offsets\" subdirectory).  \n",
    "* HDF5 virtual datasets are a new feature, only supported by HDF5 version 1.10.x and later. This is not presently the default version installed on most clusters, which still use 1.8.x. You may have to install a newer version yourself, or request that your system administrator do so. Note! Files created with advanced features of the new HDF5 library series are not backwards compatible. The old 1.8.x series of HDF5 reaches end of life in 2019, so it is a good idea regardless to migrate. In Python, you will also need a fairly new version of h5py (e.g. 2.9.x).\n"
   ]
  },
  {
   "cell_type": "code",
   "execution_count": 45,
   "metadata": {},
   "outputs": [],
   "source": [
    "# this is all stuff with the simulation file that we soon came to realize that it just doesn't work with us ,..."
   ]
  },
  {
   "cell_type": "code",
   "execution_count": 46,
   "metadata": {},
   "outputs": [],
   "source": [
    "#with h5py.File(os.path.join(basepath, 'simulation.hdf5'), 'r') as f:\n",
    "#    for key in f['Groups/99/Subhalo'].keys():\n",
    "#        if type(f['Groups/99/Subhalo/{}'.format(key)]) is h5py._hl.dataset.Dataset:\n",
    "#           print(key, f['Groups/99/Subhalo/{}'.format(key)][()].shape"
   ]
  },
  {
   "cell_type": "code",
   "execution_count": 47,
   "metadata": {},
   "outputs": [],
   "source": [
    "#ff = h5py.File(os.path.join(basepath, 'simulation.hdf5'), 'r')\n",
    "#dir(f['Groups/99/Subhalo/SubhaloMass'])\n",
    "#if type(ff['Groups/99/Subhalo/SubhaloMass']) is h5py._hl.dataset.Dataset:\n",
    "#    print('Yo')\n",
    "    #f['Groups/99/Subhalo/SubhaloMass'].len()"
   ]
  },
  {
   "cell_type": "code",
   "execution_count": 48,
   "metadata": {},
   "outputs": [],
   "source": [
    "#for key in ff['Groups/99/Subhalo/StellarMasses'].keys():\n",
    "#   print(key, ff['Groups/99/Subhalo/StellarMasses/{}'.format(key)][()].max()) "
   ]
  },
  {
   "cell_type": "code",
   "execution_count": 49,
   "metadata": {},
   "outputs": [],
   "source": [
    "#with h5py.File(os.path.join(basepath, 'output', 'groups_099', 'fof_subhalo_tab_099.3.hdf5'), 'r') as f2:\n",
    "#    print(f2.keys())\n",
    "#    print(f2['Group'].keys())\n",
    "#    mm = f2['Subhalo/SubhaloMassInHalfRad']"
   ]
  },
  {
   "cell_type": "code",
   "execution_count": 60,
   "metadata": {},
   "outputs": [],
   "source": [
    "basePath = '/home/desi/tng300-1/output'"
   ]
  },
  {
   "cell_type": "markdown",
   "metadata": {},
   "source": [
    "#### Read the FoF group catalog at z=0."
   ]
  },
  {
   "cell_type": "code",
   "execution_count": 23,
   "metadata": {},
   "outputs": [],
   "source": [
    "def read_groupcat(snapshot=99):\n",
    "    \"\"\"Read the fields we care about from a given group catalog in a \n",
    "    specified snapshot (redshift).\n",
    "    \n",
    "    http://www.tng-project.org/data/docs/specifications/#sec1a\n",
    "    \"\"\"\n",
    "    fields = ['GroupFirstSub', 'GroupMass', 'GroupLenType', 'GroupPos', \n",
    "              'Group_M_Crit200', 'Group_M_Crit500', 'Group_R_Crit200', 'GroupNsubs', 'GroupSFR', \n",
    "              'GroupMassType']\n",
    "    print('Reading the following group catalog fields from snapshot {}:'.format(snapshot))\n",
    "    print(fields)\n",
    "    cat = il.groupcat.loadHalos(basePath, snapshot, fields=fields)\n",
    "    return cat"
   ]
  },
  {
   "cell_type": "code",
   "execution_count": 24,
   "metadata": {},
   "outputs": [
    {
     "name": "stdout",
     "output_type": "stream",
     "text": [
      "Reading the following group catalog fields from snapshot 99:\n",
      "['GroupFirstSub', 'GroupMass', 'GroupLenType', 'GroupPos', 'Group_M_Crit200', 'Group_M_Crit500', 'Group_R_Crit200', 'GroupNsubs', 'GroupSFR', 'GroupMassType']\n",
      "CPU times: user 6.07 s, sys: 1.59 s, total: 7.66 s\n",
      "Wall time: 1min\n"
     ]
    }
   ],
   "source": [
    "%time groupcat = read_groupcat()"
   ]
  },
  {
   "cell_type": "markdown",
   "metadata": {},
   "source": [
    "For fun, plot the distribution of halo masses for the full group catalog.  We're interested in the most massive ones, >10^13 Msun."
   ]
  },
  {
   "cell_type": "code",
   "execution_count": 52,
   "metadata": {},
   "outputs": [
    {
     "data": {
      "text/plain": [
       "<matplotlib.lines.Line2D at 0x7f7be81f49e8>"
      ]
     },
     "execution_count": 52,
     "metadata": {},
     "output_type": "execute_result"
    },
    {
     "data": {
      "image/png": "[encoded data removed]",
      "text/plain": [
       "<Figure size 432x288 with 1 Axes>"
      ]
     },
     "metadata": {
      "needs_background": "light"
     },
     "output_type": "display_data"
    }
   ],
   "source": [
    "good = groupcat['Group_M_Crit200'] > 0\n",
    "fig, ax = plt.subplots()\n",
    "_ = ax.hist(np.log10(groupcat['Group_M_Crit200'][good] * 1e10), bins=100)\n",
    "ax.set_yscale('log')\n",
    "ax.set_xlabel(r'$\\log_{10}\\,(M_{200c}/M_{\\odot})$')\n",
    "ax.set_ylabel('Number of Halos')\n",
    "ax.axvline(x=13, color='k', lw=2, ls='-')"
   ]
  },
  {
   "cell_type": "code",
   "execution_count": 53,
   "metadata": {},
   "outputs": [
    {
     "name": "stdout",
     "output_type": "stream",
     "text": [
      "Found 2522 groups with M>10^13 Msun\n"
     ]
    }
   ],
   "source": [
    "igroup = np.where(groupcat['Group_M_Crit200'] * 1e10 > 1e13)[0]\n",
    "print('Found {} groups with M>10^13 Msun'.format(len(igroup)))"
   ]
  },
  {
   "cell_type": "code",
   "execution_count": 327,
   "metadata": {},
   "outputs": [
    {
     "name": "stdout",
     "output_type": "stream",
     "text": [
      "Working on subhalo ID 0 (out of 11748 subhalos) in FoF group 0\n",
      "  Subhalo mass = 12.725 (group mass = 15.017)\n",
      "2.6547396850585936\n",
      "Working on subhalo ID 11748 (out of 6160 subhalos) in FoF group 1\n",
      "  Subhalo mass = 12.577 (group mass = 14.947)\n",
      "1.8875639343261719\n",
      "Working on subhalo ID 17908 (out of 4828 subhalos) in FoF group 2\n",
      "  Subhalo mass = 12.515 (group mass = 14.845)\n",
      "1.6351116943359374\n",
      "Working on subhalo ID 22736 (out of 5142 subhalos) in FoF group 3\n",
      "  Subhalo mass = 12.431 (group mass = 14.785)\n",
      "1.3498045349121093\n",
      "Working on subhalo ID 27878 (out of 5296 subhalos) in FoF group 4\n",
      "  Subhalo mass = 12.443 (group mass = 14.756)\n",
      "1.3866032409667968\n"
     ]
    }
   ],
   "source": [
    "# Key fields to track: \n",
    "# SubhaloFlag, SubhaloPos, SubhaloSFR, SubhaloMass, SubhaloLenType\n",
    "\n",
    "# Types are: 0=gas; 1=DM; 2=not used; 3=tracers; 4=stars/wind; 5=BH\n",
    "starsindx = il.snapshot.partTypeNum('stars')  # 4\n",
    "\n",
    "fields = ['SubhaloFlag', 'SubhaloPos', 'SubhaloSFR', 'SubhaloMass', 'SubhaloLenType']\n",
    "for ig in igroup[:5]:\n",
    "    nsubhalos = groupcat['GroupNsubs'][ig]\n",
    "    firstsub = groupcat['GroupFirstSub'][ig]\n",
    "    print('Working on subhalo ID {} (out of {} subhalos) in FoF group {}'.format(firstsub, nsubhalos, ig))\n",
    "    subhalo = il.groupcat.loadSingle(basePath, 99, subhaloID=firstsub)\n",
    "    print('  Subhalo mass = {:.3f} (group mass = {:.3f})'.format(\n",
    "        np.log10(subhalo['SubhaloMassType'][starsindx] * 1e10), \n",
    "        np.log10(groupcat['Group_M_Crit200'][ig] * 1e10)))\n",
    "\n",
    "    print(subhalo['SubhaloMassInHalfRadType'][starsindx] * 1e10 / 1e12)\n",
    "    #for ff in fields:\n",
    "    #    print(subhalo[ff])\n",
    "    #print()"
   ]
  },
  {
   "cell_type": "code",
   "execution_count": 54,
   "metadata": {},
   "outputs": [],
   "source": [
    "subhalo = il.groupcat.loadSingle(basePath, 99, subhaloID=0)"
   ]
  },
  {
   "cell_type": "code",
   "execution_count": 480,
   "metadata": {},
   "outputs": [],
   "source": [
    "starsindx = il.snapshot.partTypeNum('stars')  # 4\n",
    "subhalomass = []\n",
    "groupmass = []\n",
    "halfmassrad = []\n",
    "\n",
    "\n",
    "fields = ['SubhaloFlag', 'SubhaloPos', 'SubhaloSFR', 'SubhaloMass', 'SubhaloLenType']\n",
    "for ig in igroup:\n",
    "    nsubhalos = groupcat['GroupNsubs'][ig]\n",
    "    firstsub = groupcat['GroupFirstSub'][ig]\n",
    "    subhalo = il.groupcat.loadSingle(basePath, 99, subhaloID=firstsub)\n",
    "    subhalomass.append(np.log10(subhalo['SubhaloMassType'][starsindx] * 1e10))\n",
    "    groupmass.append(np.log10(groupcat['Group_M_Crit200'][ig] * 1e10))\n",
    "    halfmassrad.append(np.log10(subhalo['SubhaloMassInRadType'][starsindx] * 1e10))"
   ]
  },
  {
   "cell_type": "markdown",
   "metadata": {},
   "source": [
    "#### Just the data that is above 10^14 (same as Annalisa's paper)"
   ]
  },
  {
   "cell_type": "code",
   "execution_count": 120,
   "metadata": {},
   "outputs": [],
   "source": [
    "starsindx = il.snapshot.partTypeNum('stars')  # 4\n",
    "subhalomass = []\n",
    "groupmass = []\n",
    "halfmassrad = []\n",
    "ids = []\n",
    "\n",
    "fields = ['SubhaloFlag', 'SubhaloPos', 'SubhaloSFR', 'SubhaloMass', 'SubhaloLenType']\n",
    "for ig in igroup:\n",
    "    nsubhalos = groupcat['GroupNsubs'][ig]\n",
    "    firstsub = groupcat['GroupFirstSub'][ig]\n",
    "    subhalo = il.groupcat.loadSingle(basePath, 99, subhaloID=firstsub)\n",
    "    \n",
    "    sub = np.log10(subhalo['SubhaloMassType'][starsindx] * 1e10)\n",
    "    half = np.log10(subhalo['SubhaloMassInRadType'][starsindx] * 1e10) # I'm guessing this is where it is below 2 x the half mass rad\n",
    "    group = np.log10(groupcat['Group_M_Crit500'][ig] * 1e10)\n",
    "    \n",
    "    if group > 14:\n",
    "        subhalomass.append(sub)\n",
    "        groupmass.append(group)\n",
    "        halfmassrad.append(half)\n",
    "        ids.append(firstsub)"
   ]
  },
  {
   "cell_type": "code",
   "execution_count": 121,
   "metadata": {},
   "outputs": [
    {
     "name": "stdout",
     "output_type": "stream",
     "text": [
      "75 75 75 75\n"
     ]
    }
   ],
   "source": [
    "print(len(subhalomass), len(groupmass), len(halfmassrad), len(ids))"
   ]
  },
  {
   "cell_type": "code",
   "execution_count": 122,
   "metadata": {},
   "outputs": [
    {
     "data": {
      "text/plain": [
       "Text(0.5, 1.0, 'Stellar mass as a function of total halo mass')"
      ]
     },
     "execution_count": 122,
     "metadata": {},
     "output_type": "execute_result"
    },
    {
     "data": {
      "image/png": "[encoded data removed]",
      "text/plain": [
       "<Figure size 432x288 with 1 Axes>"
      ]
     },
     "metadata": {
      "needs_background": "light"
     },
     "output_type": "display_data"
    }
   ],
   "source": [
    "fig, ax = plt.subplots()\n",
    "_ = ax.plot(groupmass, subhalomass, 'b.', label = 'The SubhaloMass')\n",
    "_ = ax.plot(groupmass, halfmassrad, 'c.', label='< 2 x r_{stars, 1/2}')\n",
    "plt.legend(loc='upper left')\n",
    "ax.set_xlabel('Total Halo Mass')\n",
    "ax.set_ylabel('Stellar Mass')\n",
    "ax.set_xlim([13, 15.4])\n",
    "plt.title('Stellar mass as a function of total halo mass')\n",
    "#ax.set_ylim([11, 13])\n",
    "#plt.savefig('StellarMassvsTotalMass')"
   ]
  },
  {
   "cell_type": "code",
   "execution_count": 91,
   "metadata": {},
   "outputs": [],
   "source": [
    "# so for the rest of her graph -- you need different apertures - and these happen to be in simulation.hdf5 file:"
   ]
  },
  {
   "cell_type": "code",
   "execution_count": 92,
   "metadata": {},
   "outputs": [],
   "source": [
    "basepath = '/home/desi/tng300-1'"
   ]
  },
  {
   "cell_type": "code",
   "execution_count": 93,
   "metadata": {},
   "outputs": [
    {
     "name": "stdout",
     "output_type": "stream",
     "text": [
      "Yo\n"
     ]
    }
   ],
   "source": [
    "ff = h5py.File(os.path.join(basepath, 'simulation.hdf5'), 'r')\n",
    "#dir(f['Groups/99/Subhalo/SubhaloMass'])\n",
    "if type(ff['Groups/99/Subhalo/SubhaloMass']) is h5py._hl.dataset.Dataset:\n",
    "    print('Yo')\n",
    "    #f['Groups/99/Subhalo/SubhaloMass'].len()"
   ]
  },
  {
   "cell_type": "code",
   "execution_count": 94,
   "metadata": {},
   "outputs": [
    {
     "name": "stdout",
     "output_type": "stream",
     "text": [
      "Done 0.0\n",
      "StellarMasses_in_r100ckpc 0.0\n",
      "StellarMasses_in_r100pkpc 0.0\n",
      "StellarMasses_in_r10ckpc 0.0\n",
      "StellarMasses_in_r10pkpc 0.0\n",
      "StellarMasses_in_r30ckpc 0.0\n",
      "StellarMasses_in_r30pkpc 0.0\n",
      "StellarMasses_in_r50ckpc 0.0\n",
      "StellarMasses_in_r50pkpc 0.0\n"
     ]
    }
   ],
   "source": [
    "for key in ff['Groups/99/Subhalo/StellarMasses'].keys():\n",
    "    print(key, ff['Groups/99/Subhalo/StellarMasses/{}'.format(key)][()].max())"
   ]
  },
  {
   "cell_type": "markdown",
   "metadata": {},
   "source": [
    "For the five most massive subhalos, load all their fields from the group catalog and print a gas function (gas mass over total baryonic mass) in the stellar half mass radius."
   ]
  },
  {
   "cell_type": "code",
   "execution_count": 63,
   "metadata": {},
   "outputs": [],
   "source": [
    "GroupFirstSub = il.groupcat.loadHalos(basePath,99, fields=['GroupFirstSub'])"
   ]
  },
  {
   "cell_type": "code",
   "execution_count": 64,
   "metadata": {},
   "outputs": [
    {
     "name": "stdout",
     "output_type": "stream",
     "text": [
      "0\n",
      "11748\n",
      "17908\n",
      "22736\n",
      "27878\n"
     ]
    }
   ],
   "source": [
    "ptNumGas = il.snapshot.partTypeNum('gas')  # 0\n",
    "ptNumStars = il.snapshot.partTypeNum('stars')  # 4\n",
    "stellarmass = []\n",
    "gasmass = []\n",
    "totalmass = []\n",
    "central_galaxies = []\n",
    "\n",
    "for i in range(5):\n",
    "    all_fields = il.groupcat.loadSingle(basePath, 99, subhaloID=GroupFirstSub[i])\n",
    "    gas_mass = all_fields['SubhaloMassInHalfRadType'][ptNumGas]\n",
    "    stars_mass = all_fields['SubhaloMassInHalfRadType'][ptNumStars]\n",
    "    frac = gas_mass / (gas_mass + stars_mass)\n",
    "    total_mass = all_fields['SubhaloMass']\n",
    "    stellarmass.append(stars_mass)\n",
    "    gasmass.append(gas_mass)\n",
    "    totalmass.append(total_mass)\n",
    "    central_galaxies.append(GroupFirstSub[i])\n",
    "    print(GroupFirstSub[i])"
   ]
  },
  {
   "cell_type": "code",
   "execution_count": 68,
   "metadata": {},
   "outputs": [],
   "source": [
    "subhalo_mass = []\n",
    "subhalo_position = []\n",
    "subhalo_sfr = []\n",
    "subhalo_masstype = []\n",
    "subhalo_metallicity = []\n",
    "subhalo_cm = []\n",
    "subhalo_pos = []\n",
    "\n",
    "for c in central_galaxies:\n",
    "    snap_url = \"http://www.tng-project.org/api/TNG300-1/snapshots/99/subhalos/\"+str(c)+\"/info.json\"\n",
    "    snap = get(snap_url)\n",
    "    subhalo_mass.append(snap['SubhaloMass'])\n",
    "    subhalo_position.append(snap['SubhaloPos'])\n",
    "    subhalo_sfr.append(snap['SubhaloSFR'])\n",
    "    subhalo_masstype.append(snap['SubhaloMassType'])\n",
    "    subhalo_metallicity.append(snap['SubhaloGasMetallicity'])\n",
    "    subhalo_cm.append(snap['SubhaloCM'])\n",
    "    subhalo_pos.append(snap['SubhaloPos']) "
   ]
  },
  {
   "cell_type": "code",
   "execution_count": 70,
   "metadata": {},
   "outputs": [
    {
     "data": {
      "text/plain": [
       "[[43718.8125, 48813.640625, 147594.953125],\n",
       " [81856.5078125, 121018.3203125, 194532.6875],\n",
       " [119228.15625, 67811.4921875, 196039.390625],\n",
       " [86512.828125, 81893.5625, 52624.5546875],\n",
       " [134485.390625, 36361.37890625, 35270.6171875]]"
      ]
     },
     "execution_count": 70,
     "metadata": {},
     "output_type": "execute_result"
    }
   ],
   "source": [
    "subhalo_pos"
   ]
  },
  {
   "cell_type": "markdown",
   "metadata": {},
   "source": [
    "download individual [cutout](http://www.tng-project.org/data/search/?sim=TNG300-1&snap=99&snap_num=&form-TOTAL_FORMS=1&form-INITIAL_FORMS=1&form-MIN_NUM_FORMS=0&form-MAX_NUM_FORMS=1000&form-0-field=id&form-0-min=0&form-0-max=11749) that you want "
   ]
  },
  {
   "cell_type": "code",
   "execution_count": 84,
   "metadata": {},
   "outputs": [],
   "source": [
    "#f0 = h5py.File('/home/desi/tng300-1/output/groups_099/cutout_0.hdf5')\n",
    "#f1 = h5py.File('/home/desi/tng300-1/output/groups_099/cutout_11748.hdf5')\n",
    "f2 = h5py.File('/home/desi/tng300-1/output/groups_099/cutout_17908.hdf5')\n",
    "#f3 = h5py.File('/home/desi/tng300-1/output/groups_099/cutout_22736.hdf5')\n",
    "#f4 = h5py.File('/home/desi/tng300-1/output/groups_099/cutout_27878.hdf5')"
   ]
  },
  {
   "cell_type": "code",
   "execution_count": 76,
   "metadata": {},
   "outputs": [
    {
     "name": "stdout",
     "output_type": "stream",
     "text": [
      "CPU times: user 65.8 ms, sys: 3.81 ms, total: 69.6 ms\n",
      "Wall time: 149 ms\n"
     ]
    }
   ],
   "source": [
    "%time coordinates = np.array(list(f2['PartType4/Coordinates'][:100000]))"
   ]
  },
  {
   "cell_type": "code",
   "execution_count": 77,
   "metadata": {},
   "outputs": [],
   "source": [
    "stellar_masses = np.array(list(f2['PartType4/Masses'][:100000]))"
   ]
  },
  {
   "cell_type": "code",
   "execution_count": 78,
   "metadata": {},
   "outputs": [],
   "source": [
    "radius = []\n",
    "central_galaxy = subhalo_pos[2]\n",
    "\n",
    "for c in range(10000):\n",
    "    x = coordinates[c][0]-central_galaxy[0]\n",
    "    y = coordinates[c][1]-central_galaxy[1]\n",
    "    z = coordinates[c][2]-central_galaxy[2]\n",
    "    \n",
    "    radius.append(np.sqrt(x**2 + y**2 + z**2))"
   ]
  },
  {
   "cell_type": "code",
   "execution_count": 79,
   "metadata": {},
   "outputs": [
    {
     "data": {
      "text/plain": [
       "10000"
      ]
     },
     "execution_count": 79,
     "metadata": {},
     "output_type": "execute_result"
    }
   ],
   "source": [
    "len(radius)"
   ]
  },
  {
   "cell_type": "code",
   "execution_count": 80,
   "metadata": {},
   "outputs": [],
   "source": [
    "sum_stellar_mass = []\n",
    "for r in range(0,len(radius)):\n",
    "    ww = np.where(radius<radius[r])\n",
    "    new_stellar_mass = stellar_masses\n",
    "    summed_mass = np.sum(new_stellar_mass[ww])\n",
    "    sum_stellar_mass.append(summed_mass)"
   ]
  },
  {
   "cell_type": "code",
   "execution_count": 81,
   "metadata": {},
   "outputs": [
    {
     "data": {
      "text/plain": [
       "10000"
      ]
     },
     "execution_count": 81,
     "metadata": {},
     "output_type": "execute_result"
    }
   ],
   "source": [
    "len(sum_stellar_mass)"
   ]
  },
  {
   "cell_type": "code",
   "execution_count": 82,
   "metadata": {},
   "outputs": [
    {
     "data": {
      "image/png": "[encoded data removed]",
      "text/plain": [
       "<Figure size 1080x720 with 1 Axes>"
      ]
     },
     "metadata": {
      "needs_background": "light"
     },
     "output_type": "display_data"
    }
   ],
   "source": [
    "plt.figure(figsize=(15,10))\n",
    "plt.plot(radius, sum_stellar_mass, 'b.')\n",
    "plt.title('Stellar Mass vs. Radius',fontsize=16)\n",
    "plt.xlabel('Radius (ckpc/h)',fontsize=16)\n",
    "plt.ylabel('Stellar Mass (10^10 Msol/h)',fontsize=16)\n",
    "plt.grid()\n",
    "#plt.savefig('stellarmass_v_rad.png')"
   ]
  },
  {
   "cell_type": "code",
   "execution_count": 90,
   "metadata": {},
   "outputs": [],
   "source": [
    "# close the file so we don't waste resources\n",
    "f2.close()"
   ]
  },
  {
   "cell_type": "markdown",
   "metadata": {},
   "source": [
    "### Everything from here below is just me messing around with stuff and talking to myself "
   ]
  },
  {
   "cell_type": "code",
   "execution_count": 21,
   "metadata": {},
   "outputs": [],
   "source": [
    "# kay so now try to push to a function so we can overlay the different galaxies "
   ]
  },
  {
   "cell_type": "code",
   "execution_count": 22,
   "metadata": {},
   "outputs": [],
   "source": [
    "# so we need coordinates and mass from each galaxy \n",
    "# each subhalo_pos[x] correlates to a different galaxy\n",
    "# subhalo_pos[0] = f0, subhalo_pos[1] = f1 and so on and so forth"
   ]
  },
  {
   "cell_type": "code",
   "execution_count": 23,
   "metadata": {},
   "outputs": [],
   "source": [
    "# figure out how to input the different ID ? or different fN\n",
    "# so loop over 5 of them and get coordinates and stellar_masses\n",
    "# however it takes forever to load coordinates and stellar_masses so until we \n",
    "# have better resources -- we are grabbing only 100000 (idk why this took me forever to figure out)"
   ]
  },
  {
   "cell_type": "code",
   "execution_count": 35,
   "metadata": {},
   "outputs": [],
   "source": [
    "rad = []\n",
    "cengal = subhalo_pos[0]\n",
    "def get_radius(f):\n",
    "    coordinates = np.array(list(f['PartType4/Coordinates'][:100000, :]))\n",
    "    for c in range(10000):\n",
    "        x = coordinates[c][0]-cengal[0]\n",
    "        y = coordinates[c][1]-cengal[1]\n",
    "        z = coordinates[c][2]-cengal[2]\n",
    "    \n",
    "        rad.append(np.sqrt(x**2 + y**2 + z**2))\n",
    "    return rad"
   ]
  },
  {
   "cell_type": "code",
   "execution_count": 46,
   "metadata": {},
   "outputs": [],
   "source": [
    "sum_stellar_mass = []\n",
    "def get_stellar_mass(f):\n",
    "    stellar_masses = np.array(list(f['PartType4/Masses'][:100000]))   \n",
    "    radius = get_radius(f)\n",
    "    for r in range(0, len(radius)):       \n",
    "        ww = np.where(radius<radius[r])\n",
    "        new_stellar_mass = stellar_masses\n",
    "        summed_mass = np.sum(new_stellar_mass[ww])\n",
    "        sum_stellar_mass.append(summed_mass)\n",
    "    return sum_stellar_mass"
   ]
  },
  {
   "cell_type": "code",
   "execution_count": 47,
   "metadata": {},
   "outputs": [],
   "source": [
    "def plot(f):\n",
    "    sum_stellar_mass = get_stellar_mass(f)\n",
    "    radius = get_radius(f)\n",
    "    plt.figure(figsize=(15,10))\n",
    "    plt.plot(radius, sum_stellar_mass, 'b.')\n",
    "    plt.title('Stellar Mass vs. Radius',fontsize=16)\n",
    "    plt.xlabel('Radius (ckpc/h)',fontsize=16)\n",
    "    plt.ylabel('Stellar Mass (10^10 Msol/h)',fontsize=16)\n",
    "    plt.grid()"
   ]
  },
  {
   "cell_type": "code",
   "execution_count": 91,
   "metadata": {},
   "outputs": [
    {
     "data": {
      "image/png": "[encoded data removed]",
      "text/plain": [
       "<Figure size 1080x720 with 1 Axes>"
      ]
     },
     "metadata": {
      "needs_background": "light"
     },
     "output_type": "display_data"
    }
   ],
   "source": [
    "plt.figure(figsize=(15,10))\n",
    "plt.plot(radius, sum_stellar_mass, 'b.')\n",
    "plt.title('Stellar Mass vs. Radius',fontsize=16)\n",
    "plt.xlabel('Radius (ckpc/h)',fontsize=16)\n",
    "plt.ylabel('Stellar Mass (10^10 Msol/h)',fontsize=16)\n",
    "plt.grid()"
   ]
  },
  {
   "cell_type": "markdown",
   "metadata": {},
   "source": [
    "#### stellar mass as a function of total mass"
   ]
  },
  {
   "cell_type": "code",
   "execution_count": 107,
   "metadata": {},
   "outputs": [],
   "source": [
    "f1 = h5py.File('/home/desi/tng300-1/output/groups_099/cutout_11748.hdf5')\n",
    "coordinates = np.array(list(f1['PartType4/Coordinates'][:10000]))\n",
    "stellar_masses = np.array(list(f1['PartType4/Masses'][:10000]))"
   ]
  },
  {
   "cell_type": "code",
   "execution_count": null,
   "metadata": {},
   "outputs": [],
   "source": []
  }
 ],
 "metadata": {
  "kernelspec": {
   "display_name": "Python 3",
   "language": "python",
   "name": "python3"
  },
  "language_info": {
   "codemirror_mode": {
    "name": "ipython",
    "version": 3
   },
   "file_extension": ".py",
   "mimetype": "text/x-python",
   "name": "python",
   "nbconvert_exporter": "python",
   "pygments_lexer": "ipython3",
   "version": "3.7.3"
  }
 },
 "nbformat": 4,
 "nbformat_minor": 2
}
