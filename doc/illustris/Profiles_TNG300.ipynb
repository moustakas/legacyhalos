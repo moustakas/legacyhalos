{
 "cells": [
  {
   "cell_type": "markdown",
   "metadata": {},
   "source": [
    "## TNG300-1 Profiles\n",
    "#### This notebook aims to produce the stellar mass density profiles of central galaxies drawn from the TNG300-1 simulation."
   ]
  },
  {
   "cell_type": "markdown",
   "metadata": {},
   "source": [
    "#### **Data files and organization**\n",
    "\n",
    "1. Create an environment variable `$TNG_DATA` pointing to the top-level directory of the Illustris data and choose a simulation, for example TNG300-1. Next, create the directory structure you need (see also the tutorial for more, potentially confusing, details):\n",
    "\n",
    "    cd $TNG_DATA  \n",
    "    mkdir TNG300-1  \n",
    "    mkdir TNG300-1/output  \n",
    "    mkdir -p TNG300-1/postprocessing/offsets  \n",
    "\n",
    "2. From the top-level page for this simulation, e.g., http://www.tng-project.org/data/downloads/TNG300-1:\n",
    "\n",
    "    2a. Grab the appropriate simulation.hdf5 file.  \n",
    "    2b. Choose a snapshot number, typically the one corresponding to z=0 (here, equal to snapshot-99), and download the appropriate offsets_099.hdf5 file into the postprocessing/offsets directory.  \n",
    "    2c. Grab all the group catalogs for this snapshot and put them into the output/groups_099 directory.\n",
    "\n"
   ]
  },
  {
   "cell_type": "markdown",
   "metadata": {},
   "source": [
    "You should modify your basePath as necessary to point to your local files, however you have organized them. By default they assume the following directory structure: (e.g for snapshot 99):  \n",
    "* group catalogs: `basePath/groups_099/groups_099.N.hdf5`\n",
    "\n",
    "* snapshots:  `basePath/snapdir_099/snap_099.N.hdf5`   "
   ]
  },
  {
   "cell_type": "markdown",
   "metadata": {},
   "source": [
    "**Initial imports**"
   ]
  },
  {
   "cell_type": "code",
   "execution_count": 1,
   "metadata": {},
   "outputs": [],
   "source": [
    "import os\n",
    "import illustris_python as il\n",
    "import h5py\n",
    "import numpy as np\n",
    "import matplotlib.pyplot as plt\n",
    "%matplotlib inline"
   ]
  },
  {
   "cell_type": "code",
   "execution_count": 2,
   "metadata": {},
   "outputs": [],
   "source": [
    "import requests\n",
    "\n",
    "baseUrl = 'http://www.illustris-project.org/api/'\n",
    "headers = {\"api-key\":\"e74bff8a3f17fa1497eb8c11243b2b87\"}\n",
    "\n",
    "def get(path, params=None):\n",
    "    # make HTTP GET request to path\n",
    "    r = requests.get(path, params=params, headers=headers)\n",
    "\n",
    "    # raise exception if response code is not HTTP SUCCESS (200)\n",
    "    r.raise_for_status()\n",
    "    if r.headers['content-type'] == 'application/json':\n",
    "        return r.json() # parse json responses automatically\n",
    "    return r"
   ]
  },
  {
   "cell_type": "code",
   "execution_count": 3,
   "metadata": {},
   "outputs": [],
   "source": [
    "basepath = '/home/desi/tng300-1'\n",
    "#fields = ['SubhaloMass', 'SubhaloMassType', 'SubhaloSFRinRad']\n",
    "subhalos = os.path.join('TNG300-1', 'groups_099') #,fields=fields)"
   ]
  },
  {
   "cell_type": "markdown",
   "metadata": {},
   "source": [
    "### Read all the subhalos in snapshot 99 (corresponding to z=0).\n",
    "\n",
    "* http://www.tng-project.org/data/downloads/TNG300-1/\n",
    "* http://www.tng-project.org/data/docs/specifications/#sec1a\n",
    "        \n",
    "Every HDF5 snapshot contains several groups: \"Header\", \"Parameters\", \"Configuration\", and five \n",
    "\"PartTypeX\" groups, for the following particle types (the DM only runs have a single PartType1 group):\n",
    "\n",
    "    PartType0 - GAS\n",
    "    PartType1 - DM\n",
    "    PartType2 - (unused)\n",
    "    PartType3 - TRACERS\n",
    "    PartType4 - STARS & WIND PARTICLES\n",
    "    PartType5 - BLACK HOLES"
   ]
  },
  {
   "cell_type": "markdown",
   "metadata": {},
   "source": [
    "**There are two requirements to use a simulation.hdf5 file**\n",
    "\n",
    "* actual data files must be organized exactly as suggested and described in the example scripts tutorial (i.e., an \"output\" directory containing a \"snapdir_099\" subdirectory and a \"group_099\" subdirectory, along with a \"postprocessing\" directory containing, among others, an \"offsets\" subdirectory).  \n",
    "* HDF5 virtual datasets are a new feature, only supported by HDF5 version 1.10.x and later. This is not presently the default version installed on most clusters, which still use 1.8.x. You may have to install a newer version yourself, or request that your system administrator do so. Note! Files created with advanced features of the new HDF5 library series are not backwards compatible. The old 1.8.x series of HDF5 reaches end of life in 2019, so it is a good idea regardless to migrate. In Python, you will also need a fairly new version of h5py (e.g. 2.9.x).\n"
   ]
  },
  {
   "cell_type": "code",
   "execution_count": 4,
   "metadata": {},
   "outputs": [],
   "source": [
    "#with h5py.File(os.path.join(basepath, 'simulation.hdf5'), 'r') as f:\n",
    "#    for key in f['Groups/99/Subhalo'].keys():\n",
    "#        if type(f['Groups/99/Subhalo/{}'.format(key)]) is h5py._hl.dataset.Dataset:\n",
    "#           print(key, f['Groups/99/Subhalo/{}'.format(key)][()].shape"
   ]
  },
  {
   "cell_type": "code",
   "execution_count": 5,
   "metadata": {},
   "outputs": [
    {
     "name": "stdout",
     "output_type": "stream",
     "text": [
      "Yo\n"
     ]
    }
   ],
   "source": [
    "ff = h5py.File(os.path.join(basepath, 'simulation.hdf5'), 'r')\n",
    "#dir(f['Groups/99/Subhalo/SubhaloMass'])\n",
    "if type(ff['Groups/99/Subhalo/SubhaloMass']) is h5py._hl.dataset.Dataset:\n",
    "    print('Yo')\n",
    "    #f['Groups/99/Subhalo/SubhaloMass'].len()"
   ]
  },
  {
   "cell_type": "code",
   "execution_count": 6,
   "metadata": {},
   "outputs": [
    {
     "name": "stdout",
     "output_type": "stream",
     "text": [
      "Done 0.0\n",
      "StellarMasses_in_r100ckpc 0.0\n",
      "StellarMasses_in_r100pkpc 0.0\n",
      "StellarMasses_in_r10ckpc 0.0\n",
      "StellarMasses_in_r10pkpc 0.0\n",
      "StellarMasses_in_r30ckpc 0.0\n",
      "StellarMasses_in_r30pkpc 0.0\n",
      "StellarMasses_in_r50ckpc 0.0\n",
      "StellarMasses_in_r50pkpc 0.0\n"
     ]
    }
   ],
   "source": [
    "for key in ff['Groups/99/Subhalo/StellarMasses'].keys():\n",
    "    print(key, ff['Groups/99/Subhalo/StellarMasses/{}'.format(key)][()].max()) "
   ]
  },
  {
   "cell_type": "code",
   "execution_count": 8,
   "metadata": {},
   "outputs": [
    {
     "name": "stdout",
     "output_type": "stream",
     "text": [
      "Help on function loadSubhalos in module illustris_python.groupcat:\n",
      "\n",
      "loadSubhalos(basePath, snapNum, fields=None)\n",
      "    Load all subhalo information from the entire group catalog for one snapshot\n",
      "    (optionally restrict to a subset given by fields).\n",
      "\n"
     ]
    }
   ],
   "source": [
    "help(il.groupcat.loadSubhalos)"
   ]
  },
  {
   "cell_type": "code",
   "execution_count": 9,
   "metadata": {},
   "outputs": [
    {
     "name": "stdout",
     "output_type": "stream",
     "text": [
      "<KeysViewHDF5 ['Config', 'Group', 'Header', 'IDs', 'Parameters', 'Subhalo']>\n",
      "<KeysViewHDF5 ['GroupBHMass', 'GroupBHMdot', 'GroupCM', 'GroupFirstSub', 'GroupGasMetalFractions', 'GroupGasMetallicity', 'GroupLen', 'GroupLenType', 'GroupMass', 'GroupMassType', 'GroupNsubs', 'GroupPos', 'GroupSFR', 'GroupStarMetalFractions', 'GroupStarMetallicity', 'GroupVel', 'GroupWindMass', 'Group_M_Crit200', 'Group_M_Crit500', 'Group_M_Mean200', 'Group_M_TopHat200', 'Group_R_Crit200', 'Group_R_Crit500', 'Group_R_Mean200', 'Group_R_TopHat200']>\n"
     ]
    }
   ],
   "source": [
    "with h5py.File(os.path.join(basepath, 'output', 'groups_099', 'fof_subhalo_tab_099.3.hdf5'), 'r') as f2:\n",
    "    print(f2.keys())\n",
    "    print(f2['Group'].keys())\n",
    "    mm = f2['Subhalo/SubhaloMassInHalfRad']"
   ]
  },
  {
   "cell_type": "code",
   "execution_count": 10,
   "metadata": {},
   "outputs": [],
   "source": [
    "basePath = '/home/desi/tng300-1/output'"
   ]
  },
  {
   "cell_type": "code",
   "execution_count": 11,
   "metadata": {},
   "outputs": [
    {
     "data": {
      "text/plain": [
       "dtype('int32')"
      ]
     },
     "execution_count": 11,
     "metadata": {},
     "output_type": "execute_result"
    }
   ],
   "source": [
    "GroupFirstSub = il.groupcat.loadHalos(basePath,99, fields=['GroupFirstSub'])\n",
    "GroupFirstSub.dtype"
   ]
  },
  {
   "cell_type": "code",
   "execution_count": 12,
   "metadata": {},
   "outputs": [
    {
     "data": {
      "text/plain": [
       "(17625892,)"
      ]
     },
     "execution_count": 12,
     "metadata": {},
     "output_type": "execute_result"
    }
   ],
   "source": [
    "GroupFirstSub.shape"
   ]
  },
  {
   "cell_type": "markdown",
   "metadata": {},
   "source": [
    "For the five most centail subhalos, load all their fields from the group catalog and print a gas function (gas mass over total baryonic mass) in the stellar half mass radius"
   ]
  },
  {
   "cell_type": "code",
   "execution_count": 13,
   "metadata": {},
   "outputs": [
    {
     "name": "stdout",
     "output_type": "stream",
     "text": [
      "0\n",
      "11748\n",
      "17908\n",
      "22736\n",
      "27878\n"
     ]
    }
   ],
   "source": [
    "ptNumGas = il.snapshot.partTypeNum('gas')  # 0\n",
    "ptNumStars = il.snapshot.partTypeNum('stars')  # 4\n",
    "stellarmass = []\n",
    "gasmass = []\n",
    "totalmass = []\n",
    "central_galaxies = []\n",
    "\n",
    "for i in range(5):\n",
    "    all_fields = il.groupcat.loadSingle(basePath, 99, subhaloID=GroupFirstSub[i])\n",
    "    gas_mass = all_fields['SubhaloMassInHalfRadType'][ptNumGas]\n",
    "    stars_mass = all_fields['SubhaloMassInHalfRadType'][ptNumStars]\n",
    "    frac = gas_mass / (gas_mass + stars_mass)\n",
    "    total_mass = all_fields['SubhaloMass']\n",
    "    stellarmass.append(stars_mass)\n",
    "    gasmass.append(gas_mass)\n",
    "    totalmass.append(total_mass)\n",
    "    central_galaxies.append(GroupFirstSub[i])\n",
    "    print(GroupFirstSub[i])"
   ]
  },
  {
   "cell_type": "code",
   "execution_count": 14,
   "metadata": {},
   "outputs": [],
   "source": [
    "subhalo_mass = []\n",
    "subhalo_position = []\n",
    "subhalo_sfr = []\n",
    "subhalo_masstype = []\n",
    "subhalo_metallicity = []\n",
    "subhalo_cm = []\n",
    "subhalo_pos = []\n",
    "\n",
    "for c in central_galaxies:\n",
    "    snap_url = \"http://www.tng-project.org/api/TNG300-1/snapshots/99/subhalos/\"+str(c)+\"/info.json\"\n",
    "    snap = get(snap_url)\n",
    "    subhalo_mass.append(snap['SubhaloMass'])\n",
    "    subhalo_position.append(snap['SubhaloPos'])\n",
    "    subhalo_sfr.append(snap['SubhaloSFR'])\n",
    "    subhalo_masstype.append(snap['SubhaloMassType'])\n",
    "    subhalo_metallicity.append(snap['SubhaloGasMetallicity'])\n",
    "    subhalo_cm.append(snap['SubhaloCM'])\n",
    "    subhalo_pos.append(snap['SubhaloPos']) "
   ]
  },
  {
   "cell_type": "code",
   "execution_count": 15,
   "metadata": {},
   "outputs": [
    {
     "name": "stdout",
     "output_type": "stream",
     "text": [
      "[128334.6015625, 88748.75, 74774.5546875, 62579.06640625, 64157.0859375]\n"
     ]
    }
   ],
   "source": [
    "print(subhalo_mass)"
   ]
  },
  {
   "cell_type": "code",
   "execution_count": 16,
   "metadata": {},
   "outputs": [
    {
     "data": {
      "text/plain": [
       "[[43718.8125, 48813.640625, 147594.953125],\n",
       " [81856.5078125, 121018.3203125, 194532.6875],\n",
       " [119228.15625, 67811.4921875, 196039.390625],\n",
       " [86512.828125, 81893.5625, 52624.5546875],\n",
       " [134485.390625, 36361.37890625, 35270.6171875]]"
      ]
     },
     "execution_count": 16,
     "metadata": {},
     "output_type": "execute_result"
    }
   ],
   "source": [
    "subhalo_pos"
   ]
  },
  {
   "cell_type": "markdown",
   "metadata": {},
   "source": [
    "download individual [cutout](http://www.tng-project.org/data/search/?sim=TNG300-1&snap=99&snap_num=&form-TOTAL_FORMS=1&form-INITIAL_FORMS=1&form-MIN_NUM_FORMS=0&form-MAX_NUM_FORMS=1000&form-0-field=id&form-0-min=0&form-0-max=11749) that you want "
   ]
  },
  {
   "cell_type": "code",
   "execution_count": 17,
   "metadata": {},
   "outputs": [],
   "source": [
    "f0 = h5py.File('/home/desi/tng300-1/output/groups_099/cutout_0.hdf5')\n",
    "f1 = h5py.File('/home/desi/tng300-1/output/groups_099/cutout_11748.hdf5')\n",
    "f2 = h5py.File('/home/desi/tng300-1/output/groups_099/cutout_17908.hdf5')\n",
    "f3 = h5py.File('/home/desi/tng300-1/output/groups_099/cutout_22736.hdf5')\n",
    "f4 = h5py.File('/home/desi/tng300-1/output/groups_099/cutout_27878.hdf5')"
   ]
  },
  {
   "cell_type": "code",
   "execution_count": 78,
   "metadata": {},
   "outputs": [
    {
     "name": "stdout",
     "output_type": "stream",
     "text": [
      "CPU times: user 67.4 ms, sys: 4.01 ms, total: 71.4 ms\n",
      "Wall time: 70.8 ms\n"
     ]
    }
   ],
   "source": [
    "%time coordinates = np.array(list(f2['PartType4/Coordinates'][:100000]))"
   ]
  },
  {
   "cell_type": "code",
   "execution_count": 79,
   "metadata": {},
   "outputs": [],
   "source": [
    "stellar_masses = np.array(list(f2['PartType4/Masses'][:100000]))"
   ]
  },
  {
   "cell_type": "code",
   "execution_count": 80,
   "metadata": {},
   "outputs": [],
   "source": [
    "radius = []\n",
    "central_galaxy = subhalo_pos[2]\n",
    "\n",
    "for c in range(10000):\n",
    "    x = coordinates[c][0]-central_galaxy[0]\n",
    "    y = coordinates[c][1]-central_galaxy[1]\n",
    "    z = coordinates[c][2]-central_galaxy[2]\n",
    "    \n",
    "    radius.append(np.sqrt(x**2 + y**2 + z**2))"
   ]
  },
  {
   "cell_type": "code",
   "execution_count": 81,
   "metadata": {},
   "outputs": [
    {
     "data": {
      "text/plain": [
       "10000"
      ]
     },
     "execution_count": 81,
     "metadata": {},
     "output_type": "execute_result"
    }
   ],
   "source": [
    "len(radius)"
   ]
  },
  {
   "cell_type": "code",
   "execution_count": 82,
   "metadata": {},
   "outputs": [],
   "source": [
    "sum_stellar_mass = []\n",
    "for r in range(0,len(radius)):\n",
    "    ww = np.where(radius<radius[r])\n",
    "    new_stellar_mass = stellar_masses\n",
    "    summed_mass = np.sum(new_stellar_mass[ww])\n",
    "    sum_stellar_mass.append(summed_mass)"
   ]
  },
  {
   "cell_type": "code",
   "execution_count": 83,
   "metadata": {},
   "outputs": [
    {
     "data": {
      "text/plain": [
       "10000"
      ]
     },
     "execution_count": 83,
     "metadata": {},
     "output_type": "execute_result"
    }
   ],
   "source": [
    "len(sum_stellar_mass)"
   ]
  },
  {
   "cell_type": "code",
   "execution_count": 84,
   "metadata": {},
   "outputs": [
    {
     "data": {
      "image/png": "[encoded data removed]",
      "text/plain": [
       "<Figure size 1080x720 with 1 Axes>"
      ]
     },
     "metadata": {
      "needs_background": "light"
     },
     "output_type": "display_data"
    }
   ],
   "source": [
    "plt.figure(figsize=(15,10))\n",
    "plt.plot(radius, sum_stellar_mass, 'b.')\n",
    "plt.title('Stellar Mass vs. Radius',fontsize=16)\n",
    "plt.xlabel('Radius (ckpc/h)',fontsize=16)\n",
    "plt.ylabel('Stellar Mass (10^10 Msol/h)',fontsize=16)\n",
    "plt.grid()"
   ]
  },
  {
   "cell_type": "code",
   "execution_count": 21,
   "metadata": {},
   "outputs": [],
   "source": [
    "# kay so now try to push to a function so we can overlay the different galaxies "
   ]
  },
  {
   "cell_type": "code",
   "execution_count": 22,
   "metadata": {},
   "outputs": [],
   "source": [
    "# so we need coordinates and mass from each galaxy \n",
    "# each subhalo_pos[x] correlates to a different galaxy\n",
    "# subhalo_pos[0] = f0, subhalo_pos[1] = f1 and so on and so forth"
   ]
  },
  {
   "cell_type": "code",
   "execution_count": 23,
   "metadata": {},
   "outputs": [],
   "source": [
    "# figure out how to input the different ID ? or different fN\n",
    "# so loop over 5 of them and get coordinates and stellar_masses\n",
    "# however it takes forever to load coordinates and stellar_masses so until we \n",
    "# have better resources -- we are grabbing only 100000 (idk why this took me forever to figure out)"
   ]
  },
  {
   "cell_type": "code",
   "execution_count": 35,
   "metadata": {},
   "outputs": [],
   "source": [
    "rad = []\n",
    "cengal = subhalo_pos[0]\n",
    "def get_radius(f):\n",
    "    coordinates = np.array(list(f['PartType4/Coordinates'][:100000]))\n",
    "    for c in range(10000):\n",
    "        x = coordinates[c][0]-cengal[0]\n",
    "        y = coordinates[c][1]-cengal[1]\n",
    "        z = coordinates[c][2]-cengal[2]\n",
    "    \n",
    "        rad.append(np.sqrt(x**2 + y**2 + z**2))\n",
    "    return rad"
   ]
  },
  {
   "cell_type": "code",
   "execution_count": 46,
   "metadata": {},
   "outputs": [],
   "source": [
    "sum_stellar_mass = []\n",
    "def get_stellar_mass(f):\n",
    "    stellar_masses = np.array(list(f['PartType4/Masses'][:100000]))   \n",
    "    radius = get_radius(f)\n",
    "    for r in range(0, len(radius)):       \n",
    "        ww = np.where(radius<radius[r])\n",
    "        new_stellar_mass = stellar_masses\n",
    "        summed_mass = np.sum(new_stellar_mass[ww])\n",
    "        sum_stellar_mass.append(summed_mass)\n",
    "    return sum_stellar_mass"
   ]
  },
  {
   "cell_type": "code",
   "execution_count": 47,
   "metadata": {},
   "outputs": [],
   "source": [
    "def plot(f):\n",
    "    sum_stellar_mass = get_stellar_mass(f)\n",
    "    radius = get_radius(f)\n",
    "    plt.figure(figsize=(15,10))\n",
    "    plt.plot(radius, sum_stellar_mass, 'b.')\n",
    "    plt.title('Stellar Mass vs. Radius',fontsize=16)\n",
    "    plt.xlabel('Radius (ckpc/h)',fontsize=16)\n",
    "    plt.ylabel('Stellar Mass (10^10 Msol/h)',fontsize=16)\n",
    "    plt.grid()"
   ]
  },
  {
   "cell_type": "code",
   "execution_count": 63,
   "metadata": {},
   "outputs": [],
   "source": [
    "radius = get_radius(f0)"
   ]
  },
  {
   "cell_type": "code",
   "execution_count": 64,
   "metadata": {},
   "outputs": [
    {
     "data": {
      "text/plain": [
       "50000"
      ]
     },
     "execution_count": 64,
     "metadata": {},
     "output_type": "execute_result"
    }
   ],
   "source": [
    "len(radius)"
   ]
  },
  {
   "cell_type": "code",
   "execution_count": 49,
   "metadata": {},
   "outputs": [],
   "source": [
    "sum_stellar_mass = get_stellar_mass(f0)"
   ]
  },
  {
   "cell_type": "code",
   "execution_count": 65,
   "metadata": {},
   "outputs": [
    {
     "data": {
      "text/plain": [
       "40000"
      ]
     },
     "execution_count": 65,
     "metadata": {},
     "output_type": "execute_result"
    }
   ],
   "source": [
    "len(sum_stellar_mass)"
   ]
  },
  {
   "cell_type": "code",
   "execution_count": 88,
   "metadata": {},
   "outputs": [],
   "source": [
    "# soooooo these functions aren't actually giving me what I want..... i just don't know "
   ]
  },
  {
   "cell_type": "code",
   "execution_count": 89,
   "metadata": {},
   "outputs": [
    {
     "data": {
      "text/plain": [
       "10000"
      ]
     },
     "execution_count": 89,
     "metadata": {},
     "output_type": "execute_result"
    }
   ],
   "source": [
    "len(radius)"
   ]
  },
  {
   "cell_type": "code",
   "execution_count": 90,
   "metadata": {},
   "outputs": [
    {
     "data": {
      "text/plain": [
       "10000"
      ]
     },
     "execution_count": 90,
     "metadata": {},
     "output_type": "execute_result"
    }
   ],
   "source": [
    "len(sum_stellar_mass)"
   ]
  },
  {
   "cell_type": "code",
   "execution_count": 91,
   "metadata": {},
   "outputs": [
    {
     "data": {
      "image/png": "[encoded data removed]",
      "text/plain": [
       "<Figure size 1080x720 with 1 Axes>"
      ]
     },
     "metadata": {
      "needs_background": "light"
     },
     "output_type": "display_data"
    }
   ],
   "source": [
    "plt.figure(figsize=(15,10))\n",
    "plt.plot(radius, sum_stellar_mass, 'b.')\n",
    "plt.title('Stellar Mass vs. Radius',fontsize=16)\n",
    "plt.xlabel('Radius (ckpc/h)',fontsize=16)\n",
    "plt.ylabel('Stellar Mass (10^10 Msol/h)',fontsize=16)\n",
    "plt.grid()"
   ]
  },
  {
   "cell_type": "code",
   "execution_count": 44,
   "metadata": {},
   "outputs": [],
   "source": [
    "# ok so for some reason the functions aren't working \n",
    "# let's try t"
   ]
  },
  {
   "cell_type": "code",
   "execution_count": null,
   "metadata": {},
   "outputs": [],
   "source": []
  }
 ],
 "metadata": {
  "kernelspec": {
   "display_name": "Python 3",
   "language": "python",
   "name": "python3"
  },
  "language_info": {
   "codemirror_mode": {
    "name": "ipython",
    "version": 3
   },
   "file_extension": ".py",
   "mimetype": "text/x-python",
   "name": "python",
   "nbconvert_exporter": "python",
   "pygments_lexer": "ipython3",
   "version": "3.7.3"
  }
 },
 "nbformat": 4,
 "nbformat_minor": 2
}
