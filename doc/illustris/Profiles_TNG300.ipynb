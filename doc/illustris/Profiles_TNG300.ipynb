{
 "cells": [
  {
   "cell_type": "markdown",
   "metadata": {},
   "source": [
    "## TNG300-1 Profiles\n",
    "#### This notebook aims to produce the stellar mass density profiles of central galaxies drawn from the TNG300-1 simulation."
   ]
  },
  {
   "cell_type": "markdown",
   "metadata": {},
   "source": [
    "#### **Data files and organization**\n",
    "\n",
    "1. Create an environment variable `$TNG_DATA` pointing to the top-level directory of the Illustris data and choose a simulation, for example TNG300-1. Next, create the directory structure you need (see also the tutorial for more, potentially confusing, details):\n",
    "\n",
    "    cd $TNG_DATA  \n",
    "    mkdir TNG300-1  \n",
    "    mkdir TNG300-1/output  \n",
    "    mkdir -p TNG300-1/postprocessing/offsets  \n",
    "\n",
    "2. From the top-level page for this simulation, e.g., http://www.tng-project.org/data/downloads/TNG300-1:\n",
    "\n",
    "    2a. Grab the appropriate simulation.hdf5 file.  \n",
    "    2b. Choose a snapshot number, typically the one corresponding to z=0 (here, equal to snapshot-99), and download the appropriate offsets_099.hdf5 file into the postprocessing/offsets directory.  \n",
    "    2c. Grab all the group catalogs for this snapshot and put them into the output/groups_099 directory.\n",
    "\n"
   ]
  },
  {
   "cell_type": "markdown",
   "metadata": {},
   "source": [
    "You should modify your basePath as necessary to point to your local files, however you have organized them. By default they assume the following directory structure: (e.g for snapshot 99):  \n",
    "* group catalogs: `basePath/groups_099/groups_099.N.hdf5`\n",
    "\n",
    "* snapshots:  `basePath/snapdir_099/snap_099.N.hdf5`   "
   ]
  },
  {
   "cell_type": "markdown",
   "metadata": {},
   "source": [
    "**Initial imports**"
   ]
  },
  {
   "cell_type": "code",
   "execution_count": 1,
   "metadata": {},
   "outputs": [],
   "source": [
    "import os, time\n",
    "import illustris_python as il\n",
    "import h5py\n",
    "import numpy as np\n",
    "import matplotlib.pyplot as plt\n",
    "%matplotlib inline"
   ]
  },
  {
   "cell_type": "code",
   "execution_count": 29,
   "metadata": {},
   "outputs": [],
   "source": [
    "from astropy.table import Table, Column"
   ]
  },
  {
   "cell_type": "code",
   "execution_count": 2,
   "metadata": {},
   "outputs": [],
   "source": [
    "import requests\n",
    "\n",
    "baseUrl = 'http://www.illustris-project.org/api/'\n",
    "headers = {\"api-key\":\"e74bff8a3f17fa1497eb8c11243b2b87\"}\n",
    "\n",
    "def get(path, params=None):\n",
    "    # make HTTP GET request to path\n",
    "    r = requests.get(path, params=params, headers=headers)\n",
    "\n",
    "    # raise exception if response code is not HTTP SUCCESS (200)\n",
    "    r.raise_for_status()\n",
    "    if r.headers['content-type'] == 'application/json':\n",
    "        return r.json() # parse json responses automatically\n",
    "    return r"
   ]
  },
  {
   "cell_type": "markdown",
   "metadata": {},
   "source": [
    "### Read all the subhalos in snapshot 99 (corresponding to z=0).\n",
    "\n",
    "* http://www.tng-project.org/data/downloads/TNG300-1/\n",
    "* http://www.tng-project.org/data/docs/specifications/#sec1a\n",
    "        \n",
    "Every HDF5 snapshot contains several groups: \"Header\", \"Parameters\", \"Configuration\", and five \n",
    "\"PartTypeX\" groups, for the following particle types (the DM only runs have a single PartType1 group):\n",
    "\n",
    "    PartType0 - GAS\n",
    "    PartType1 - DM\n",
    "    PartType2 - (unused)\n",
    "    PartType3 - TRACERS\n",
    "    PartType4 - STARS & WIND PARTICLES\n",
    "    PartType5 - BLACK HOLES"
   ]
  },
  {
   "cell_type": "markdown",
   "metadata": {},
   "source": [
    "**There are two requirements to use a simulation.hdf5 file**\n",
    "\n",
    "* actual data files must be organized exactly as suggested and described in the example scripts tutorial (i.e., an \"output\" directory containing a \"snapdir_099\" subdirectory and a \"group_099\" subdirectory, along with a \"postprocessing\" directory containing, among others, an \"offsets\" subdirectory).  \n",
    "* HDF5 virtual datasets are a new feature, only supported by HDF5 version 1.10.x and later. This is not presently the default version installed on most clusters, which still use 1.8.x. You may have to install a newer version yourself, or request that your system administrator do so. Note! Files created with advanced features of the new HDF5 library series are not backwards compatible. The old 1.8.x series of HDF5 reaches end of life in 2019, so it is a good idea regardless to migrate. In Python, you will also need a fairly new version of h5py (e.g. 2.9.x).\n"
   ]
  },
  {
   "cell_type": "code",
   "execution_count": 3,
   "metadata": {},
   "outputs": [],
   "source": [
    "# this is all stuff with the simulation file that we soon came to realize that it just doesn't work with us ,..."
   ]
  },
  {
   "cell_type": "code",
   "execution_count": 4,
   "metadata": {},
   "outputs": [],
   "source": [
    "#with h5py.File(os.path.join(basepath, 'simulation.hdf5'), 'r') as f:\n",
    "#    for key in f['Groups/99/Subhalo'].keys():\n",
    "#        if type(f['Groups/99/Subhalo/{}'.format(key)]) is h5py._hl.dataset.Dataset:\n",
    "#           print(key, f['Groups/99/Subhalo/{}'.format(key)][()].shape"
   ]
  },
  {
   "cell_type": "code",
   "execution_count": 5,
   "metadata": {},
   "outputs": [],
   "source": [
    "#ff = h5py.File(os.path.join(basepath, 'simulation.hdf5'), 'r')\n",
    "#dir(f['Groups/99/Subhalo/SubhaloMass'])\n",
    "#if type(ff['Groups/99/Subhalo/SubhaloMass']) is h5py._hl.dataset.Dataset:\n",
    "#    print('Yo')\n",
    "    #f['Groups/99/Subhalo/SubhaloMass'].len()"
   ]
  },
  {
   "cell_type": "code",
   "execution_count": 6,
   "metadata": {},
   "outputs": [],
   "source": [
    "#for key in ff['Groups/99/Subhalo/StellarMasses'].keys():\n",
    "#   print(key, ff['Groups/99/Subhalo/StellarMasses/{}'.format(key)][()].max()) "
   ]
  },
  {
   "cell_type": "code",
   "execution_count": 7,
   "metadata": {},
   "outputs": [],
   "source": [
    "#with h5py.File(os.path.join(basepath, 'output', 'groups_099', 'fof_subhalo_tab_099.3.hdf5'), 'r') as f2:\n",
    "#    print(f2.keys())\n",
    "#    print(f2['Group'].keys())\n",
    "#    mm = f2['Subhalo/SubhaloMassInHalfRad']"
   ]
  },
  {
   "cell_type": "code",
   "execution_count": 8,
   "metadata": {},
   "outputs": [
    {
     "name": "stdout",
     "output_type": "stream",
     "text": [
      "/Users/ioannis/research/data/illustris/TNG300-1/output\n"
     ]
    }
   ],
   "source": [
    "#basePath = os.path.join(os.getenv('HOME'), 'tng300-1', 'output')\n",
    "basePath = os.path.join(os.getenv('IM_DATA_DIR'), 'illustris', 'TNG300-1', 'output')\n",
    "print(basePath)"
   ]
  },
  {
   "cell_type": "markdown",
   "metadata": {},
   "source": [
    "#### Read the FoF group catalog at z=0."
   ]
  },
  {
   "cell_type": "code",
   "execution_count": 9,
   "metadata": {},
   "outputs": [
    {
     "name": "stdout",
     "output_type": "stream",
     "text": [
      "<HDF5 group \"/Header\" (0 members)>\n"
     ]
    }
   ],
   "source": [
    "with h5py.File(os.path.join(basePath, 'groups_099', 'fof_subhalo_tab_099.0.hdf5'), 'r') as ff:\n",
    "    print(ff['Header'])"
   ]
  },
  {
   "cell_type": "code",
   "execution_count": 10,
   "metadata": {},
   "outputs": [],
   "source": [
    "def read_groupcat(snapshot=99):\n",
    "    \"\"\"Read the fields we care about from a given group catalog in a \n",
    "    specified snapshot (redshift).\n",
    "    \n",
    "    http://www.tng-project.org/data/docs/specifications/#sec1a\n",
    "    \"\"\"\n",
    "    fields = ['GroupFirstSub', 'GroupMass', 'GroupLenType', 'GroupPos', \n",
    "              'Group_M_Crit200', 'Group_M_Crit500', 'Group_R_Crit200', \n",
    "              'GroupNsubs', 'GroupSFR', 'GroupMassType']\n",
    "    print('Reading the following group catalog fields from snapshot {}:'.format(snapshot))\n",
    "    print(fields)\n",
    "    cat = il.groupcat.loadHalos(basePath, snapshot, fields=fields)\n",
    "    return cat"
   ]
  },
  {
   "cell_type": "code",
   "execution_count": 11,
   "metadata": {},
   "outputs": [
    {
     "name": "stdout",
     "output_type": "stream",
     "text": [
      "Reading the following group catalog fields from snapshot 99:\n",
      "['GroupFirstSub', 'GroupMass', 'GroupLenType', 'GroupPos', 'Group_M_Crit200', 'Group_M_Crit500', 'Group_R_Crit200', 'GroupNsubs', 'GroupSFR', 'GroupMassType']\n",
      "Reading /Users/ioannis/research/data/illustris/TNG300-1/output/groups_099/fof_subhalo_tab_099.0.hdf5\n",
      "CPU times: user 6.44 s, sys: 1.7 s, total: 8.14 s\n",
      "Wall time: 9.88 s\n"
     ]
    }
   ],
   "source": [
    "%time groupcat = read_groupcat()"
   ]
  },
  {
   "cell_type": "markdown",
   "metadata": {},
   "source": [
    "For fun, plot the distribution of halo masses for the full group catalog.  We're interested in the most massive ones, >10^13 Msun."
   ]
  },
  {
   "cell_type": "code",
   "execution_count": 13,
   "metadata": {},
   "outputs": [
    {
     "data": {
      "text/plain": [
       "<matplotlib.lines.Line2D at 0x12247f940>"
      ]
     },
     "execution_count": 13,
     "metadata": {},
     "output_type": "execute_result"
    },
    {
     "data": {
      "image/png": "[encoded data removed]",
      "text/plain": [
       "<Figure size 432x288 with 1 Axes>"
      ]
     },
     "metadata": {
      "needs_background": "light"
     },
     "output_type": "display_data"
    }
   ],
   "source": [
    "good = groupcat['Group_M_Crit200'] > 0\n",
    "fig, ax = plt.subplots()\n",
    "_ = ax.hist(np.log10(groupcat['Group_M_Crit200'][good] * 1e10), bins=100)\n",
    "ax.set_yscale('log')\n",
    "ax.set_xlabel(r'$\\log_{10}\\,(M_{200c}/M_{\\odot})$')\n",
    "ax.set_ylabel('Number of Halos')\n",
    "ax.axvline(x=13, color='k', lw=2, ls='-')"
   ]
  },
  {
   "cell_type": "markdown",
   "metadata": {},
   "source": [
    "Scrape the offsets to gather the quantities we need and pack them into a table."
   ]
  },
  {
   "cell_type": "code",
   "execution_count": 58,
   "metadata": {},
   "outputs": [],
   "source": [
    "def gather_halo_info(mhalocut=1e14, verbose=False):\n",
    "    igroup = np.where(groupcat['Group_M_Crit200'] * 1e10 > mhalocut)[0]\n",
    "    ngroup = len(igroup)\n",
    "    print('Found {} groups with M>{:g} Msun'.format(ngroup, mhalocut))\n",
    "    \n",
    "    # Key fields to track: \n",
    "    # SubhaloFlag, SubhaloPos, SubhaloSFR, SubhaloMass, SubhaloLenType\n",
    "    data = Table()\n",
    "    data.add_column(Column(name='groupid', length=ngroup, dtype=np.int32))\n",
    "    data.add_column(Column(name='nsubhalos', length=ngroup, dtype=np.int32))\n",
    "    data.add_column(Column(name='group_m200c', length=ngroup, dtype='f4'))\n",
    "    data.add_column(Column(name='group_m500c', length=ngroup, dtype='f4'))\n",
    "    data.add_column(Column(name='cen_subhaloid', length=ngroup, dtype=np.int32))\n",
    "    data.add_column(Column(name='cen_mstar_tot', length=ngroup, dtype='f4'))\n",
    "    data.add_column(Column(name='cen_mstar_half', length=ngroup, dtype='f4'))\n",
    "    \n",
    "    data['groupid'] = igroup\n",
    "\n",
    "    # Types are: 0=gas; 1=DM; 2=not used; 3=tracers; 4=stars/wind; 5=BH\n",
    "    starsindx = il.snapshot.partTypeNum('stars')  # 4\n",
    "\n",
    "    fields = ['SubhaloFlag', 'SubhaloPos', 'SubhaloSFR', 'SubhaloMass', 'SubhaloLenType']\n",
    "    for ii, ig in enumerate(igroup):\n",
    "        data['nsubhalos'][ii] = groupcat['GroupNsubs'][ig]\n",
    "        data['cen_subhaloid'][ii] = groupcat['GroupFirstSub'][ig]\n",
    "        data['group_m200c'][ii] = np.log10(groupcat['Group_M_Crit200'][ig] * 1e10)\n",
    "        data['group_m500c'][ii] = np.log10(groupcat['Group_M_Crit500'][ig] * 1e10)\n",
    "        \n",
    "        if verbose:\n",
    "            print('Working on subhalo ID {} (out of {} subhalos) in FoF group {}'.format(\n",
    "                data['cen_subhaloid'][ii], data['nsubhalos'][ii], ig))\n",
    "        \n",
    "        subhalo = il.groupcat.loadSingle(basePath, 99, subhaloID=data['cen_subhaloid'][ii])\n",
    "        data['cen_mstar_tot'][ii] = np.log10(subhalo['SubhaloMassType'][starsindx] * 1e10)\n",
    "        data['cen_mstar_half'][ii] = np.log10(subhalo['SubhaloMassInRadType'][starsindx] * 1e10)\n",
    "        \n",
    "        #print(subhalo.keys())\n",
    "        if verbose:\n",
    "            print('  Subhalo mass = {:.3f} (group mass = {:.3f})'.format(\n",
    "                data['cen_mstar_tot'][ii], data['group_m200c'][ii]))\n",
    "\n",
    "    return data"
   ]
  },
  {
   "cell_type": "code",
   "execution_count": 59,
   "metadata": {},
   "outputs": [
    {
     "name": "stdout",
     "output_type": "stream",
     "text": [
      "Found 153 groups with M>1e+14 Msun\n",
      "CPU times: user 4.05 s, sys: 300 ms, total: 4.35 s\n",
      "Wall time: 4.36 s\n"
     ]
    },
    {
     "data": {
      "text/html": [
       "<i>Table length=153</i>\n",
       "<table id=\"table6449812144\" class=\"table-striped table-bordered table-condensed\">\n",
       "<thead><tr><th>groupid</th><th>nsubhalos</th><th>group_m200c</th><th>group_m500c</th><th>cen_subhaloid</th><th>cen_mstar_tot</th><th>cen_mstar_half</th></tr></thead>\n",
       "<thead><tr><th>int64</th><th>int32</th><th>float32</th><th>float32</th><th>int32</th><th>float32</th><th>float32</th></tr></thead>\n",
       "<tr><td>0</td><td>11748</td><td>15.017177</td><td>14.893454</td><td>0</td><td>12.725052</td><td>12.547521</td></tr>\n",
       "<tr><td>1</td><td>6160</td><td>14.947234</td><td>14.8150425</td><td>11748</td><td>12.576932</td><td>12.409057</td></tr>\n",
       "<tr><td>2</td><td>4828</td><td>14.8450775</td><td>14.678097</td><td>17908</td><td>12.514579</td><td>12.289819</td></tr>\n",
       "<tr><td>3</td><td>5142</td><td>14.784928</td><td>14.630985</td><td>22736</td><td>12.431301</td><td>12.253589</td></tr>\n",
       "<tr><td>4</td><td>5296</td><td>14.756064</td><td>14.608318</td><td>27878</td><td>12.442984</td><td>12.268674</td></tr>\n",
       "<tr><td>5</td><td>4318</td><td>14.696261</td><td>14.423792</td><td>33174</td><td>12.265059</td><td>12.052548</td></tr>\n",
       "<tr><td>6</td><td>5139</td><td>14.492928</td><td>14.312362</td><td>37492</td><td>12.123277</td><td>11.979688</td></tr>\n",
       "<tr><td>7</td><td>4684</td><td>14.595186</td><td>14.408698</td><td>42631</td><td>12.280957</td><td>12.095582</td></tr>\n",
       "<tr><td>8</td><td>4197</td><td>14.431003</td><td>14.300912</td><td>47315</td><td>12.216147</td><td>12.051734</td></tr>\n",
       "<tr><td>9</td><td>3548</td><td>14.637847</td><td>14.5051565</td><td>51512</td><td>12.363008</td><td>12.17889</td></tr>\n",
       "<tr><td>...</td><td>...</td><td>...</td><td>...</td><td>...</td><td>...</td><td>...</td></tr>\n",
       "<tr><td>179</td><td>912</td><td>14.008348</td><td>13.841273</td><td>312721</td><td>11.853875</td><td>11.682612</td></tr>\n",
       "<tr><td>182</td><td>803</td><td>14.024259</td><td>13.88163</td><td>315603</td><td>11.89944</td><td>11.709048</td></tr>\n",
       "<tr><td>183</td><td>952</td><td>14.092412</td><td>13.85332</td><td>316406</td><td>11.634558</td><td>11.4277525</td></tr>\n",
       "<tr><td>188</td><td>831</td><td>14.045874</td><td>13.885777</td><td>321422</td><td>11.8651085</td><td>11.672968</td></tr>\n",
       "<tr><td>191</td><td>592</td><td>14.025297</td><td>13.878586</td><td>323749</td><td>11.905247</td><td>11.697592</td></tr>\n",
       "<tr><td>195</td><td>799</td><td>14.003039</td><td>13.851246</td><td>327054</td><td>11.881672</td><td>11.681903</td></tr>\n",
       "<tr><td>201</td><td>792</td><td>14.009896</td><td>13.864041</td><td>332312</td><td>11.759277</td><td>11.5768</td></tr>\n",
       "<tr><td>202</td><td>918</td><td>14.031292</td><td>13.915001</td><td>333104</td><td>11.679734</td><td>11.485756</td></tr>\n",
       "<tr><td>203</td><td>833</td><td>14.049036</td><td>13.856649</td><td>334022</td><td>11.697385</td><td>11.533865</td></tr>\n",
       "<tr><td>234</td><td>479</td><td>14.035104</td><td>13.949791</td><td>359091</td><td>11.818509</td><td>11.639967</td></tr>\n",
       "</table>"
      ],
      "text/plain": [
       "<Table length=153>\n",
       "groupid nsubhalos group_m200c ... cen_subhaloid cen_mstar_tot cen_mstar_half\n",
       " int64    int32     float32   ...     int32        float32       float32    \n",
       "------- --------- ----------- ... ------------- ------------- --------------\n",
       "      0     11748   15.017177 ...             0     12.725052      12.547521\n",
       "      1      6160   14.947234 ...         11748     12.576932      12.409057\n",
       "      2      4828  14.8450775 ...         17908     12.514579      12.289819\n",
       "      3      5142   14.784928 ...         22736     12.431301      12.253589\n",
       "      4      5296   14.756064 ...         27878     12.442984      12.268674\n",
       "      5      4318   14.696261 ...         33174     12.265059      12.052548\n",
       "      6      5139   14.492928 ...         37492     12.123277      11.979688\n",
       "      7      4684   14.595186 ...         42631     12.280957      12.095582\n",
       "      8      4197   14.431003 ...         47315     12.216147      12.051734\n",
       "      9      3548   14.637847 ...         51512     12.363008       12.17889\n",
       "    ...       ...         ... ...           ...           ...            ...\n",
       "    179       912   14.008348 ...        312721     11.853875      11.682612\n",
       "    182       803   14.024259 ...        315603      11.89944      11.709048\n",
       "    183       952   14.092412 ...        316406     11.634558     11.4277525\n",
       "    188       831   14.045874 ...        321422    11.8651085      11.672968\n",
       "    191       592   14.025297 ...        323749     11.905247      11.697592\n",
       "    195       799   14.003039 ...        327054     11.881672      11.681903\n",
       "    201       792   14.009896 ...        332312     11.759277        11.5768\n",
       "    202       918   14.031292 ...        333104     11.679734      11.485756\n",
       "    203       833   14.049036 ...        334022     11.697385      11.533865\n",
       "    234       479   14.035104 ...        359091     11.818509      11.639967"
      ]
     },
     "execution_count": 59,
     "metadata": {},
     "output_type": "execute_result"
    }
   ],
   "source": [
    "%time data = gather_halo_info()\n",
    "data"
   ]
  },
  {
   "cell_type": "markdown",
   "metadata": {},
   "source": [
    "#### Just the data that is above 10^14 (same as Annalisa's paper)"
   ]
  },
  {
   "cell_type": "code",
   "execution_count": 67,
   "metadata": {},
   "outputs": [],
   "source": [
    "def qa_mstar_mhalo(data):\n",
    "    \"\"\"Plot central-galaxy stellar mass vs halo mass (cf Fig XX in Pillepich et al. 2018).\n",
    "    \n",
    "    \"\"\"\n",
    "    fig, ax = plt.subplots(figsize=(8, 6))\n",
    "    _ = ax.plot(data['group_m500c'], data['cen_mstar_tot'], 'b.', label = 'Total')\n",
    "    _ = ax.plot(data['group_m500c'], data['cen_mstar_half'], 'c.', label='< 2 x r_{stars, 1/2}')\n",
    "    ax.legend(loc='upper left')\n",
    "    ax.set_xlabel('M(500c) Mass')\n",
    "    ax.set_ylabel('M*(central galaxy)')\n",
    "    ax.set_xlim([13, 15.3])\n",
    "    ax.set_ylim([10.7, 13.3])\n",
    "    #plt.savefig('StellarMassvsTotalMass')"
   ]
  },
  {
   "cell_type": "code",
   "execution_count": 68,
   "metadata": {},
   "outputs": [
    {
     "data": {
      "image/png": "[encoded data removed]",
      "text/plain": [
       "<Figure size 576x432 with 1 Axes>"
      ]
     },
     "metadata": {
      "needs_background": "light"
     },
     "output_type": "display_data"
    }
   ],
   "source": [
    "qa_mstar_mhalo(data)"
   ]
  },
  {
   "cell_type": "code",
   "execution_count": null,
   "metadata": {},
   "outputs": [],
   "source": [
    "# so for the rest of her graph -- you need different apertures - and these happen to be in simulation.hdf5 file:"
   ]
  },
  {
   "cell_type": "code",
   "execution_count": null,
   "metadata": {},
   "outputs": [],
   "source": [
    "stop"
   ]
  },
  {
   "cell_type": "code",
   "execution_count": null,
   "metadata": {},
   "outputs": [],
   "source": [
    "basepath = '/home/desi/tng300-1'"
   ]
  },
  {
   "cell_type": "code",
   "execution_count": null,
   "metadata": {},
   "outputs": [],
   "source": [
    "ff = h5py.File(os.path.join(basepath, 'simulation.hdf5'), 'r')\n",
    "#dir(f['Groups/99/Subhalo/SubhaloMass'])\n",
    "if type(ff['Groups/99/Subhalo/SubhaloMass']) is h5py._hl.dataset.Dataset:\n",
    "    print('Yo')\n",
    "    #f['Groups/99/Subhalo/SubhaloMass'].len()"
   ]
  },
  {
   "cell_type": "code",
   "execution_count": null,
   "metadata": {},
   "outputs": [],
   "source": [
    "for key in ff['Groups/99/Subhalo/StellarMasses'].keys():\n",
    "    print(key, ff['Groups/99/Subhalo/StellarMasses/{}'.format(key)][()].max())"
   ]
  },
  {
   "cell_type": "markdown",
   "metadata": {},
   "source": [
    "For the five most massive subhalos, load all their fields from the group catalog and print a gas function (gas mass over total baryonic mass) in the stellar half mass radius."
   ]
  },
  {
   "cell_type": "code",
   "execution_count": null,
   "metadata": {},
   "outputs": [],
   "source": [
    "GroupFirstSub = il.groupcat.loadHalos(basePath,99, fields=['GroupFirstSub'])"
   ]
  },
  {
   "cell_type": "code",
   "execution_count": null,
   "metadata": {},
   "outputs": [],
   "source": [
    "ptNumGas = il.snapshot.partTypeNum('gas')  # 0\n",
    "ptNumStars = il.snapshot.partTypeNum('stars')  # 4\n",
    "stellarmass = []\n",
    "gasmass = []\n",
    "totalmass = []\n",
    "central_galaxies = []\n",
    "\n",
    "for i in range(5):\n",
    "    all_fields = il.groupcat.loadSingle(basePath, 99, subhaloID=GroupFirstSub[i])\n",
    "    gas_mass = all_fields['SubhaloMassInHalfRadType'][ptNumGas]\n",
    "    stars_mass = all_fields['SubhaloMassInHalfRadType'][ptNumStars]\n",
    "    frac = gas_mass / (gas_mass + stars_mass)\n",
    "    total_mass = all_fields['SubhaloMass']\n",
    "    stellarmass.append(stars_mass)\n",
    "    gasmass.append(gas_mass)\n",
    "    totalmass.append(total_mass)\n",
    "    central_galaxies.append(GroupFirstSub[i])\n",
    "    print(GroupFirstSub[i])"
   ]
  },
  {
   "cell_type": "code",
   "execution_count": null,
   "metadata": {},
   "outputs": [],
   "source": [
    "subhalo_mass = []\n",
    "subhalo_position = []\n",
    "subhalo_sfr = []\n",
    "subhalo_masstype = []\n",
    "subhalo_metallicity = []\n",
    "subhalo_cm = []\n",
    "subhalo_pos = []\n",
    "\n",
    "for c in central_galaxies:\n",
    "    snap_url = \"http://www.tng-project.org/api/TNG300-1/snapshots/99/subhalos/\"+str(c)+\"/info.json\"\n",
    "    snap = get(snap_url)\n",
    "    subhalo_mass.append(snap['SubhaloMass'])\n",
    "    subhalo_position.append(snap['SubhaloPos'])\n",
    "    subhalo_sfr.append(snap['SubhaloSFR'])\n",
    "    subhalo_masstype.append(snap['SubhaloMassType'])\n",
    "    subhalo_metallicity.append(snap['SubhaloGasMetallicity'])\n",
    "    subhalo_cm.append(snap['SubhaloCM'])\n",
    "    subhalo_pos.append(snap['SubhaloPos']) "
   ]
  },
  {
   "cell_type": "code",
   "execution_count": null,
   "metadata": {},
   "outputs": [],
   "source": [
    "subhalo_pos"
   ]
  },
  {
   "cell_type": "markdown",
   "metadata": {},
   "source": [
    "download individual [cutout](http://www.tng-project.org/data/search/?sim=TNG300-1&snap=99&snap_num=&form-TOTAL_FORMS=1&form-INITIAL_FORMS=1&form-MIN_NUM_FORMS=0&form-MAX_NUM_FORMS=1000&form-0-field=id&form-0-min=0&form-0-max=11749) that you want "
   ]
  },
  {
   "cell_type": "code",
   "execution_count": null,
   "metadata": {},
   "outputs": [],
   "source": [
    "#f0 = h5py.File('/home/desi/tng300-1/output/groups_099/cutout_0.hdf5')\n",
    "#f1 = h5py.File('/home/desi/tng300-1/output/groups_099/cutout_11748.hdf5')\n",
    "f2 = h5py.File('/home/desi/tng300-1/output/groups_099/cutout_17908.hdf5')\n",
    "#f3 = h5py.File('/home/desi/tng300-1/output/groups_099/cutout_22736.hdf5')\n",
    "#f4 = h5py.File('/home/desi/tng300-1/output/groups_099/cutout_27878.hdf5')"
   ]
  },
  {
   "cell_type": "code",
   "execution_count": null,
   "metadata": {},
   "outputs": [],
   "source": [
    "%time coordinates = np.array(list(f2['PartType4/Coordinates'][:100000]))"
   ]
  },
  {
   "cell_type": "code",
   "execution_count": null,
   "metadata": {},
   "outputs": [],
   "source": [
    "stellar_masses = np.array(list(f2['PartType4/Masses'][:100000]))"
   ]
  },
  {
   "cell_type": "code",
   "execution_count": null,
   "metadata": {},
   "outputs": [],
   "source": [
    "radius = []\n",
    "central_galaxy = subhalo_pos[2]\n",
    "\n",
    "for c in range(10000):\n",
    "    x = coordinates[c][0]-central_galaxy[0]\n",
    "    y = coordinates[c][1]-central_galaxy[1]\n",
    "    z = coordinates[c][2]-central_galaxy[2]\n",
    "    \n",
    "    radius.append(np.sqrt(x**2 + y**2 + z**2))"
   ]
  },
  {
   "cell_type": "code",
   "execution_count": null,
   "metadata": {},
   "outputs": [],
   "source": [
    "len(radius)"
   ]
  },
  {
   "cell_type": "code",
   "execution_count": null,
   "metadata": {},
   "outputs": [],
   "source": [
    "sum_stellar_mass = []\n",
    "for r in range(0,len(radius)):\n",
    "    ww = np.where(radius<radius[r])\n",
    "    new_stellar_mass = stellar_masses\n",
    "    summed_mass = np.sum(new_stellar_mass[ww])\n",
    "    sum_stellar_mass.append(summed_mass)"
   ]
  },
  {
   "cell_type": "code",
   "execution_count": null,
   "metadata": {},
   "outputs": [],
   "source": [
    "len(sum_stellar_mass)"
   ]
  },
  {
   "cell_type": "code",
   "execution_count": null,
   "metadata": {},
   "outputs": [],
   "source": [
    "plt.figure(figsize=(15,10))\n",
    "plt.plot(radius, sum_stellar_mass, 'b.')\n",
    "plt.title('Stellar Mass vs. Radius',fontsize=16)\n",
    "plt.xlabel('Radius (ckpc/h)',fontsize=16)\n",
    "plt.ylabel('Stellar Mass (10^10 Msol/h)',fontsize=16)\n",
    "plt.grid()\n",
    "#plt.savefig('stellarmass_v_rad.png')"
   ]
  },
  {
   "cell_type": "code",
   "execution_count": null,
   "metadata": {},
   "outputs": [],
   "source": [
    "# close the file so we don't waste resources\n",
    "f2.close()"
   ]
  },
  {
   "cell_type": "markdown",
   "metadata": {},
   "source": [
    "### Everything from here below is just me messing around with stuff and talking to myself "
   ]
  },
  {
   "cell_type": "code",
   "execution_count": null,
   "metadata": {},
   "outputs": [],
   "source": [
    "# kay so now try to push to a function so we can overlay the different galaxies "
   ]
  },
  {
   "cell_type": "code",
   "execution_count": null,
   "metadata": {},
   "outputs": [],
   "source": [
    "# so we need coordinates and mass from each galaxy \n",
    "# each subhalo_pos[x] correlates to a different galaxy\n",
    "# subhalo_pos[0] = f0, subhalo_pos[1] = f1 and so on and so forth"
   ]
  },
  {
   "cell_type": "code",
   "execution_count": null,
   "metadata": {},
   "outputs": [],
   "source": [
    "# figure out how to input the different ID ? or different fN\n",
    "# so loop over 5 of them and get coordinates and stellar_masses\n",
    "# however it takes forever to load coordinates and stellar_masses so until we \n",
    "# have better resources -- we are grabbing only 100000 (idk why this took me forever to figure out)"
   ]
  },
  {
   "cell_type": "code",
   "execution_count": null,
   "metadata": {},
   "outputs": [],
   "source": [
    "rad = []\n",
    "cengal = subhalo_pos[0]\n",
    "def get_radius(f):\n",
    "    coordinates = np.array(list(f['PartType4/Coordinates'][:100000, :]))\n",
    "    for c in range(10000):\n",
    "        x = coordinates[c][0]-cengal[0]\n",
    "        y = coordinates[c][1]-cengal[1]\n",
    "        z = coordinates[c][2]-cengal[2]\n",
    "    \n",
    "        rad.append(np.sqrt(x**2 + y**2 + z**2))\n",
    "    return rad"
   ]
  },
  {
   "cell_type": "code",
   "execution_count": null,
   "metadata": {},
   "outputs": [],
   "source": [
    "sum_stellar_mass = []\n",
    "def get_stellar_mass(f):\n",
    "    stellar_masses = np.array(list(f['PartType4/Masses'][:100000]))   \n",
    "    radius = get_radius(f)\n",
    "    for r in range(0, len(radius)):       \n",
    "        ww = np.where(radius<radius[r])\n",
    "        new_stellar_mass = stellar_masses\n",
    "        summed_mass = np.sum(new_stellar_mass[ww])\n",
    "        sum_stellar_mass.append(summed_mass)\n",
    "    return sum_stellar_mass"
   ]
  },
  {
   "cell_type": "code",
   "execution_count": null,
   "metadata": {},
   "outputs": [],
   "source": [
    "def plot(f):\n",
    "    sum_stellar_mass = get_stellar_mass(f)\n",
    "    radius = get_radius(f)\n",
    "    plt.figure(figsize=(15,10))\n",
    "    plt.plot(radius, sum_stellar_mass, 'b.')\n",
    "    plt.title('Stellar Mass vs. Radius',fontsize=16)\n",
    "    plt.xlabel('Radius (ckpc/h)',fontsize=16)\n",
    "    plt.ylabel('Stellar Mass (10^10 Msol/h)',fontsize=16)\n",
    "    plt.grid()"
   ]
  },
  {
   "cell_type": "code",
   "execution_count": null,
   "metadata": {},
   "outputs": [],
   "source": [
    "plt.figure(figsize=(15,10))\n",
    "plt.plot(radius, sum_stellar_mass, 'b.')\n",
    "plt.title('Stellar Mass vs. Radius',fontsize=16)\n",
    "plt.xlabel('Radius (ckpc/h)',fontsize=16)\n",
    "plt.ylabel('Stellar Mass (10^10 Msol/h)',fontsize=16)\n",
    "plt.grid()"
   ]
  },
  {
   "cell_type": "markdown",
   "metadata": {},
   "source": [
    "#### stellar mass as a function of total mass"
   ]
  },
  {
   "cell_type": "code",
   "execution_count": null,
   "metadata": {},
   "outputs": [],
   "source": [
    "f1 = h5py.File('/home/desi/tng300-1/output/groups_099/cutout_11748.hdf5')\n",
    "coordinates = np.array(list(f1['PartType4/Coordinates'][:10000]))\n",
    "stellar_masses = np.array(list(f1['PartType4/Masses'][:10000]))"
   ]
  },
  {
   "cell_type": "code",
   "execution_count": null,
   "metadata": {},
   "outputs": [],
   "source": []
  }
 ],
 "metadata": {
  "kernelspec": {
   "display_name": "Python 3",
   "language": "python",
   "name": "python3"
  },
  "language_info": {
   "codemirror_mode": {
    "name": "ipython",
    "version": 3
   },
   "file_extension": ".py",
   "mimetype": "text/x-python",
   "name": "python",
   "nbconvert_exporter": "python",
   "pygments_lexer": "ipython3",
   "version": "3.6.7"
  }
 },
 "nbformat": 4,
 "nbformat_minor": 2
}
