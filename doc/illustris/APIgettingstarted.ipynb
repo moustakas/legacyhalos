{
 "cells": [
  {
   "cell_type": "code",
   "execution_count": 90,
   "metadata": {},
   "outputs": [],
   "source": [
    "import numpy as np\n",
    "import matplotlib.pyplot as plt"
   ]
  },
  {
   "cell_type": "markdown",
   "metadata": {},
   "source": [
    "Start up your interface of choice and define a helper function, whose purpose is to make a HTTP GET request to a specified URL (\"endpoint\"), and verify that the response is successful"
   ]
  },
  {
   "cell_type": "code",
   "execution_count": 135,
   "metadata": {},
   "outputs": [],
   "source": [
    "import requests\n",
    "\n",
    "baseUrl = 'http://www.tng-project.org/api/'\n",
    "headers = {\"api-key\":\"4e2c93455bbc8e991a91a61ef5e11daa\"}\n",
    "\n",
    "def get(path, params=None):\n",
    "    # make HTTP GET request to path\n",
    "    r = requests.get(path, params=params, headers=headers)\n",
    "\n",
    "    # raise exception if response code is not HTTP SUCCESS (200)\n",
    "    r.raise_for_status()\n",
    "    if r.headers['content-type'] == 'application/json':\n",
    "        return r.json() # parse json responses automatically\n",
    "    return r"
   ]
  },
  {
   "cell_type": "markdown",
   "metadata": {},
   "source": [
    "Issue a request to the API root."
   ]
  },
  {
   "cell_type": "code",
   "execution_count": 136,
   "metadata": {},
   "outputs": [],
   "source": [
    "r = get(baseUrl)"
   ]
  },
  {
   "cell_type": "markdown",
   "metadata": {},
   "source": [
    "The response is a dictionary object with one key, \"simulations\", which is a list of N (currently 45 in this example) available runs:"
   ]
  },
  {
   "cell_type": "code",
   "execution_count": 137,
   "metadata": {},
   "outputs": [
    {
     "data": {
      "text/plain": [
       "dict_keys(['simulations'])"
      ]
     },
     "execution_count": 137,
     "metadata": {},
     "output_type": "execute_result"
    }
   ],
   "source": [
    "r.keys()"
   ]
  },
  {
   "cell_type": "code",
   "execution_count": 138,
   "metadata": {},
   "outputs": [
    {
     "data": {
      "text/plain": [
       "45"
      ]
     },
     "execution_count": 138,
     "metadata": {},
     "output_type": "execute_result"
    }
   ],
   "source": [
    "len(r['simulations'])"
   ]
  },
  {
   "cell_type": "markdown",
   "metadata": {},
   "source": [
    "Print out all fields of the first, as well as the names of all fourty-five"
   ]
  },
  {
   "cell_type": "code",
   "execution_count": 139,
   "metadata": {},
   "outputs": [
    {
     "data": {
      "text/plain": [
       "{'name': 'Illustris-1',\n",
       " 'num_snapshots': 134,\n",
       " 'url': 'http://www.tng-project.org/api/Illustris-1/'}"
      ]
     },
     "execution_count": 139,
     "metadata": {},
     "output_type": "execute_result"
    }
   ],
   "source": [
    "r['simulations'][0]"
   ]
  },
  {
   "cell_type": "code",
   "execution_count": 140,
   "metadata": {},
   "outputs": [
    {
     "data": {
      "text/plain": [
       "['Illustris-1',\n",
       " 'Illustris-1-Dark',\n",
       " 'Illustris-2',\n",
       " 'Illustris-2-Dark',\n",
       " 'Illustris-3',\n",
       " 'Illustris-3-Dark',\n",
       " 'TNG100-1',\n",
       " 'TNG100-1-Dark',\n",
       " 'TNG100-2',\n",
       " 'TNG100-2-Dark',\n",
       " 'TNG100-3',\n",
       " 'TNG100-3-Dark',\n",
       " 'TNG300-3',\n",
       " 'TNG300-2-Dark',\n",
       " 'TNG300-2',\n",
       " 'TNG300-1-Dark',\n",
       " 'TNG300-1',\n",
       " 'TNG300-3-Dark',\n",
       " 'Illustris-1-Subbox0',\n",
       " 'Illustris-1-Subbox1',\n",
       " 'Illustris-1-Subbox2',\n",
       " 'Illustris-1-Subbox3',\n",
       " 'Illustris-2-Subbox0',\n",
       " 'Illustris-2-Subbox1',\n",
       " 'Illustris-2-Subbox2',\n",
       " 'Illustris-2-Subbox3',\n",
       " 'Illustris-3-Subbox0',\n",
       " 'Illustris-3-Subbox1',\n",
       " 'Illustris-3-Subbox2',\n",
       " 'Illustris-3-Subbox3',\n",
       " 'TNG100-1-Subbox0',\n",
       " 'TNG100-1-Subbox1',\n",
       " 'TNG100-2-Subbox0',\n",
       " 'TNG100-2-Subbox1',\n",
       " 'TNG100-3-Subbox0',\n",
       " 'TNG100-3-Subbox1',\n",
       " 'TNG300-3-Subbox1',\n",
       " 'TNG300-3-Subbox2',\n",
       " 'TNG300-3-Subbox0',\n",
       " 'TNG300-2-Subbox1',\n",
       " 'TNG300-2-Subbox2',\n",
       " 'TNG300-2-Subbox0',\n",
       " 'TNG300-1-Subbox1',\n",
       " 'TNG300-1-Subbox2',\n",
       " 'TNG300-1-Subbox0']"
      ]
     },
     "execution_count": 140,
     "metadata": {},
     "output_type": "execute_result"
    }
   ],
   "source": [
    "names = [sim['name'] for sim in r['simulations']]\n",
    "names "
   ]
  },
  {
   "cell_type": "markdown",
   "metadata": {},
   "source": [
    "Let's take a look at Illustris-3 by determining which entry in r it is, then requesting the url field of that entry"
   ]
  },
  {
   "cell_type": "code",
   "execution_count": 141,
   "metadata": {},
   "outputs": [
    {
     "data": {
      "text/plain": [
       "4"
      ]
     },
     "execution_count": 141,
     "metadata": {},
     "output_type": "execute_result"
    }
   ],
   "source": [
    "i = names.index('Illustris-3')\n",
    "i"
   ]
  },
  {
   "cell_type": "code",
   "execution_count": 142,
   "metadata": {},
   "outputs": [
    {
     "data": {
      "text/plain": [
       "dict_keys(['name', 'description', 'name_alt', 'boxsize', 'z_start', 'z_final', 'cosmology', 'omega_0', 'omega_L', 'omega_B', 'hubble', 'physics_model', 'has_cooling', 'has_starformation', 'has_winds', 'has_blackholes', 'mass_gas', 'mass_dm', 'softening_dm_comoving', 'softening_stars_comoving', 'softening_blackholes_comoving', 'softening_gas_comoving', 'softening_dm_max_phys', 'softening_stars_max_phys', 'softening_blackholes_max_phys', 'softening_gas_max_phys', 'softening_gas_factor', 'softening_gas_comoving_min', 'num_dm', 'num_tr_mc', 'num_tr_vel', 'longids', 'is_uniform', 'is_zoom', 'is_subbox', 'num_files_snapshot', 'num_files_groupcat', 'num_files_rockstar', 'num_files_lhalotree', 'num_files_sublink', 'num_files_ctrees', 'filesize_lhalotree', 'filesize_sublink', 'filesize_ctrees', 'filesize_ics', 'filesize_simulation', 'has_fof', 'has_subfind', 'has_rockstar', 'has_lhalotree', 'has_sublink', 'has_ctrees', 'permission_required', 'num_snapshots', 'url', 'parent_simulation', 'child_simulations', 'files', 'checksums', 'snapshots'])"
      ]
     },
     "execution_count": 142,
     "metadata": {},
     "output_type": "execute_result"
    }
   ],
   "source": [
    "sim = get(r['simulations'][i]['url'])\n",
    "sim.keys()"
   ]
  },
  {
   "cell_type": "code",
   "execution_count": 143,
   "metadata": {},
   "outputs": [
    {
     "data": {
      "text/plain": [
       "94196375"
      ]
     },
     "execution_count": 143,
     "metadata": {},
     "output_type": "execute_result"
    }
   ],
   "source": [
    "sim['num_dm']"
   ]
  },
  {
   "cell_type": "markdown",
   "metadata": {},
   "source": [
    "Note - we do not actually need to construct the URL by hand. \n",
    "This in general is true, whenever an API response refers to another resource or endpoint , it does so with an absolute URL, which can be directly followed to retrieve that resource. Meaning, that there is no need to know the structure of the API in order to navigate it.\n",
    "\n",
    "In this case, we could have seen from the reference table at the bottom of this page, that the endpoint which retreives the full metadata for a given simulation is /api/{sim_name}/. Therefore we can manually construct the URL --- and send a request. Alternatively we can simply follow the url field that we already have to arrive at the same place."
   ]
  },
  {
   "cell_type": "code",
   "execution_count": 144,
   "metadata": {},
   "outputs": [
    {
     "data": {
      "text/plain": [
       "'http://www.tng-project.org/api/Illustris-3/snapshots/'"
      ]
     },
     "execution_count": 144,
     "metadata": {},
     "output_type": "execute_result"
    }
   ],
   "source": [
    "sim['snapshots']"
   ]
  },
  {
   "cell_type": "code",
   "execution_count": 145,
   "metadata": {},
   "outputs": [
    {
     "data": {
      "text/plain": [
       "136"
      ]
     },
     "execution_count": 145,
     "metadata": {},
     "output_type": "execute_result"
    }
   ],
   "source": [
    "snaps = get(sim['snapshots'])\n",
    "len(snaps)"
   ]
  },
  {
   "cell_type": "code",
   "execution_count": 146,
   "metadata": {},
   "outputs": [
    {
     "data": {
      "text/plain": [
       "{'number': 135,\n",
       " 'redshift': 2.2204460492503099e-16,\n",
       " 'num_groups_subfind': 121209,\n",
       " 'url': 'http://www.tng-project.org/api/Illustris-3/snapshots/135/'}"
      ]
     },
     "execution_count": 146,
     "metadata": {},
     "output_type": "execute_result"
    }
   ],
   "source": [
    "# there are 136 snapshots, inspect the last one, which corresponds to z = 0.\n",
    "snaps[-1]"
   ]
  },
  {
   "cell_type": "code",
   "execution_count": 147,
   "metadata": {},
   "outputs": [
    {
     "data": {
      "text/plain": [
       "{'simulation': 'http://www.tng-project.org/api/Illustris-3/',\n",
       " 'number': 135,\n",
       " 'redshift': 2.2204460492503099e-16,\n",
       " 'num_gas': 87571556,\n",
       " 'num_dm': 94196375,\n",
       " 'num_trmc': 94196375,\n",
       " 'num_stars': 4388167,\n",
       " 'num_bhs': 33582,\n",
       " 'num_groups_fof': 131727,\n",
       " 'num_groups_subfind': 121209,\n",
       " 'num_groups_rockstar': 0,\n",
       " 'filesize_snapshot': 23437820660.0,\n",
       " 'filesize_groupcat': 114056740.0,\n",
       " 'filesize_rockstar': 0.0,\n",
       " 'url': 'http://www.tng-project.org/api/Illustris-3/snapshots/135/',\n",
       " 'subhalos': 'http://www.tng-project.org/api/Illustris-3/snapshots/135/subhalos/',\n",
       " 'vis': {'groupcat_sfms': 'http://www.tng-project.org/api/Illustris-3/snapshots/135/subhalos/plot.png?xQuant=mstar2_log&yQuant=ssfr&xlim=9.0%2C11.0',\n",
       "  'groupcat_sizemass': 'http://www.tng-project.org/api/Illustris-3/snapshots/135/subhalos/plot.png?xQuant=mstar2_log&yQuant=size_stars',\n",
       "  'groupcat_mz_gas': 'http://www.tng-project.org/api/Illustris-3/snapshots/135/subhalos/plot.png?xQuant=mstar2_log&yQuant=Z_gas',\n",
       "  'groupcat_mz_stars': 'http://www.tng-project.org/api/Illustris-3/snapshots/135/subhalos/plot.png?xQuant=mstar2_log&yQuant=Z_stars',\n",
       "  'groupcat_mstar_mhalo': 'http://www.tng-project.org/api/Illustris-3/snapshots/135/subhalos/plot.png?xQuant=mhalo_200_log&yQuant=mstar2_log',\n",
       "  'groupcat_smhm': 'http://www.tng-project.org/api/Illustris-3/snapshots/135/subhalos/plot.png?xQuant=mhalo_200_log&yQuant=mstar2_mhalo200_ratio&xlim=10.0%2C14.5',\n",
       "  'groupcat_halo_sizemass': 'http://www.tng-project.org/api/Illustris-3/snapshots/135/subhalos/plot.png?xQuant=mhalo_200_log&yQuant=rhalo_200&xlim=9.0%2C15.0',\n",
       "  'groupcat_fmr': 'http://www.tng-project.org/api/Illustris-3/snapshots/135/subhalos/plot.png?xQuant=mstar2_log&yQuant=delta_sfms&cQuant=Z_gas&xlim=8.5%2C11.0&ylim=-1.5%2C1.5&cRel=0.7%2C1.3'},\n",
       " 'files': {'snapshot': 'http://www.tng-project.org/api/Illustris-3/files/snapshot-135/',\n",
       "  'groupcat': 'http://www.tng-project.org/api/Illustris-3/files/groupcat-135/'}}"
      ]
     },
     "execution_count": 147,
     "metadata": {},
     "output_type": "execute_result"
    }
   ],
   "source": [
    "snap = get(snaps[-1]['url'])\n",
    "snap"
   ]
  },
  {
   "cell_type": "code",
   "execution_count": 148,
   "metadata": {},
   "outputs": [
    {
     "data": {
      "text/plain": [
       "dict_keys(['count', 'next', 'previous', 'results'])"
      ]
     },
     "execution_count": 148,
     "metadata": {},
     "output_type": "execute_result"
    }
   ],
   "source": [
    "# request and inspect the subhalos endpoint.\n",
    "subs = get(snap['subhalos'])\n",
    "subs.keys()"
   ]
  },
  {
   "cell_type": "code",
   "execution_count": 149,
   "metadata": {},
   "outputs": [
    {
     "data": {
      "text/plain": [
       "121209"
      ]
     },
     "execution_count": 149,
     "metadata": {},
     "output_type": "execute_result"
    }
   ],
   "source": [
    "subs['count']"
   ]
  },
  {
   "cell_type": "code",
   "execution_count": 150,
   "metadata": {},
   "outputs": [
    {
     "data": {
      "text/plain": [
       "'http://www.tng-project.org/api/Illustris-3/snapshots/135/subhalos/?limit=100&offset=100'"
      ]
     },
     "execution_count": 150,
     "metadata": {},
     "output_type": "execute_result"
    }
   ],
   "source": [
    "subs['next']"
   ]
  },
  {
   "cell_type": "code",
   "execution_count": 151,
   "metadata": {},
   "outputs": [
    {
     "data": {
      "text/plain": [
       "100"
      ]
     },
     "execution_count": 151,
     "metadata": {},
     "output_type": "execute_result"
    }
   ],
   "source": [
    "len(subs['results'])"
   ]
  },
  {
   "cell_type": "markdown",
   "metadata": {},
   "source": [
    "The response is a paginated list of all Subfind subhalos which ecist at this snapshot. The default page size is 100 elements, this can be overriden by specifing a limit param"
   ]
  },
  {
   "cell_type": "code",
   "execution_count": 152,
   "metadata": {},
   "outputs": [
    {
     "data": {
      "text/plain": [
       "220"
      ]
     },
     "execution_count": 152,
     "metadata": {},
     "output_type": "execute_result"
    }
   ],
   "source": [
    "subs = get(snap['subhalos'], {'limit':220})\n",
    "len(subs['results'])"
   ]
  },
  {
   "cell_type": "code",
   "execution_count": 153,
   "metadata": {},
   "outputs": [
    {
     "data": {
      "text/plain": [
       "'http://www.tng-project.org/api/Illustris-3/snapshots/135/subhalos/?limit=220&offset=220'"
      ]
     },
     "execution_count": 153,
     "metadata": {},
     "output_type": "execute_result"
    }
   ],
   "source": [
    "subs['next']"
   ]
  },
  {
   "cell_type": "code",
   "execution_count": 154,
   "metadata": {},
   "outputs": [
    {
     "data": {
      "text/plain": [
       "{'id': 0,\n",
       " 'sfr': 4.11098,\n",
       " 'mass_log_msun': 14.554690443287308,\n",
       " 'url': 'http://www.tng-project.org/api/Illustris-3/snapshots/135/subhalos/0/'}"
      ]
     },
     "execution_count": 154,
     "metadata": {},
     "output_type": "execute_result"
    }
   ],
   "source": [
    "subs['results'][0]"
   ]
  },
  {
   "cell_type": "code",
   "execution_count": 155,
   "metadata": {},
   "outputs": [],
   "source": [
    "subs = get(snap['subhalos'], {'limit':20, 'order_by':'-mass_stars'})"
   ]
  },
  {
   "cell_type": "code",
   "execution_count": 156,
   "metadata": {},
   "outputs": [
    {
     "data": {
      "text/plain": [
       "20"
      ]
     },
     "execution_count": 156,
     "metadata": {},
     "output_type": "execute_result"
    }
   ],
   "source": [
    "len(subs['results'])"
   ]
  },
  {
   "cell_type": "code",
   "execution_count": 157,
   "metadata": {},
   "outputs": [
    {
     "data": {
      "text/plain": [
       "[0, 1030, 2074, 2302, 2843]"
      ]
     },
     "execution_count": 157,
     "metadata": {},
     "output_type": "execute_result"
    }
   ],
   "source": [
    "[subs['results'][i]['id'] for i in range(5)]"
   ]
  },
  {
   "cell_type": "markdown",
   "metadata": {},
   "source": [
    "Note - ordering:\n",
    "You can order by any field in the catalog."
   ]
  },
  {
   "cell_type": "markdown",
   "metadata": {},
   "source": [
    "As expected, bc subhalo IDs are assigned in order of descending total mass, the most massive subhalo (with ID==0) also has the most stars. The next ID(1030) is likely a central subhalo of a subsequent FoF halo."
   ]
  },
  {
   "cell_type": "code",
   "execution_count": 158,
   "metadata": {},
   "outputs": [
    {
     "data": {
      "text/plain": [
       "{'snap': 135,\n",
       " 'id': 1030,\n",
       " 'bhmdot': 0.199144,\n",
       " 'cm_x': 10992.8,\n",
       " 'cm_y': 50807.7,\n",
       " 'cm_z': 47671.3,\n",
       " 'gasmetallicity': 0.00787963,\n",
       " 'gasmetallicityhalfrad': 0.0167215,\n",
       " 'gasmetallicitymaxrad': 0.053106,\n",
       " 'gasmetallicitysfr': 0.0510764,\n",
       " 'gasmetallicitysfrweighted': 0.0518217,\n",
       " 'pos_x': 10908.2,\n",
       " 'pos_y': 50865.5,\n",
       " 'pos_z': 47651.8,\n",
       " 'halfmassrad': 527.237,\n",
       " 'halfmassrad_gas': 660.879,\n",
       " 'halfmassrad_dm': 510.476,\n",
       " 'halfmassrad_stars': 50.759,\n",
       " 'halfmassrad_bhs': 0.0,\n",
       " 'len': 1113373,\n",
       " 'len_gas': 448911,\n",
       " 'len_dm': 624445,\n",
       " 'len_stars': 39946,\n",
       " 'len_bhs': 71,\n",
       " 'mass': 20463.1,\n",
       " 'mass_gas': 2678.49,\n",
       " 'mass_dm': 17620.2,\n",
       " 'mass_stars': 158.333,\n",
       " 'mass_bhs': 6.04079,\n",
       " 'massinhalfrad': 496.772,\n",
       " 'massinhalfrad_gas': 5.39936,\n",
       " 'massinhalfrad_dm': 406.895,\n",
       " 'massinhalfrad_stars': 79.1619,\n",
       " 'massinhalfrad_bhs': 5.31633,\n",
       " 'massinmaxrad': 5.28624,\n",
       " 'massinmaxrad_gas': 0.007397,\n",
       " 'massinmaxrad_dm': 0.0,\n",
       " 'massinmaxrad_stars': 0.015315,\n",
       " 'massinmaxrad_bhs': 5.26353,\n",
       " 'massinrad': 1352.77,\n",
       " 'massinrad_gas': 28.3612,\n",
       " 'massinrad_dm': 1217.89,\n",
       " 'massinrad_stars': 100.954,\n",
       " 'massinrad_bhs': 5.56788,\n",
       " 'sfr': 5.53373,\n",
       " 'sfrinhalfrad': 5.53373,\n",
       " 'sfrinmaxrad': 0.181456,\n",
       " 'sfrinrad': 5.53373,\n",
       " 'spin_x': 11334.7,\n",
       " 'spin_y': -6038.99,\n",
       " 'spin_z': -57340.1,\n",
       " 'starmetallicity': 0.0265244,\n",
       " 'starmetallicityhalfrad': 0.0295919,\n",
       " 'starmetallicitymaxrad': 0.050617,\n",
       " 'stellarphotometrics_u': -23.5693,\n",
       " 'stellarphotometrics_b': -23.9747,\n",
       " 'stellarphotometrics_v': -24.8368,\n",
       " 'stellarphotometrics_k': -27.7757,\n",
       " 'stellarphotometrics_g': -24.4276,\n",
       " 'stellarphotometrics_r': -25.1773,\n",
       " 'stellarphotometrics_i': -25.5364,\n",
       " 'stellarphotometrics_z': -25.7921,\n",
       " 'stellarphotometricsmassinrad': 66.8636,\n",
       " 'stellarphotometricsrad': 28.5133,\n",
       " 'vel_x': 245.727,\n",
       " 'vel_y': -93.7855,\n",
       " 'vel_z': 70.685,\n",
       " 'veldisp': 541.908,\n",
       " 'vmax': 1057.54,\n",
       " 'vmaxrad': 0.2035,\n",
       " 'windmass': 0.169171,\n",
       " 'prog_snap': 134,\n",
       " 'prog_sfid': 1004,\n",
       " 'desc_snap': -1,\n",
       " 'desc_sfid': -1,\n",
       " 'parent': 0,\n",
       " 'grnr': 2,\n",
       " 'primary_flag': 1,\n",
       " 'mass_log_msun': 14.463398767443746,\n",
       " 'related': {'sublink_progenitor': 'http://www.tng-project.org/api/Illustris-3/snapshots/134/subhalos/1004/',\n",
       "  'sublink_descendant': None,\n",
       "  'parent_halo': 'http://www.tng-project.org/api/Illustris-3/snapshots/135/halos/2/'},\n",
       " 'cutouts': {'subhalo': 'http://www.tng-project.org/api/Illustris-3/snapshots/135/subhalos/1030/cutout.hdf5',\n",
       "  'parent_halo': 'http://www.tng-project.org/api/Illustris-3/snapshots/135/halos/2/cutout.hdf5'},\n",
       " 'trees': {'sublink': 'http://www.tng-project.org/api/Illustris-3/snapshots/135/subhalos/1030/sublink/full.hdf5',\n",
       "  'sublink_mpb': 'http://www.tng-project.org/api/Illustris-3/snapshots/135/subhalos/1030/sublink/mpb.hdf5',\n",
       "  'sublink_mdb': 'http://www.tng-project.org/api/Illustris-3/snapshots/135/subhalos/1030/sublink/mdb.hdf5',\n",
       "  'sublink_simple': 'http://www.tng-project.org/api/Illustris-3/snapshots/135/subhalos/1030/sublink/simple.json',\n",
       "  'lhalotree': 'http://www.tng-project.org/api/Illustris-3/snapshots/135/subhalos/1030/lhalotree/full.hdf5',\n",
       "  'lhalotree_mpb': 'http://www.tng-project.org/api/Illustris-3/snapshots/135/subhalos/1030/lhalotree/mpb.hdf5'},\n",
       " 'supplementary_data': {},\n",
       " 'vis': {'mergertree_sublink': 'http://www.tng-project.org/api/Illustris-3/snapshots/135/subhalos/1030/sublink/tree.png',\n",
       "  'halo_gas_dens': 'http://www.tng-project.org/api/Illustris-3/snapshots/135/halos/1030/vis.png?partType=gas',\n",
       "  'halo_gas_temp': 'http://www.tng-project.org/api/Illustris-3/snapshots/135/halos/1030/vis.png?partType=gas&partField=temp',\n",
       "  'halo_dm_dens': 'http://www.tng-project.org/api/Illustris-3/snapshots/135/halos/1030/vis.png?partType=dm',\n",
       "  'halo_stellar_dens': 'http://www.tng-project.org/api/Illustris-3/snapshots/135/halos/1030/vis.png?partType=stars',\n",
       "  'galaxy_gas_dens': 'http://www.tng-project.org/api/Illustris-3/snapshots/135/halos/1030/vis.png?partType=gas&size=5.0&sizeType=rHalfMassStars',\n",
       "  'galaxy_gas_dens_faceon': 'http://www.tng-project.org/api/Illustris-3/snapshots/135/halos/1030/vis.png?partType=gas&size=5.0&sizeType=rHalfMassStars&rotation=face-on',\n",
       "  'galaxy_stellar_light': 'http://www.tng-project.org/api/Illustris-3/snapshots/135/halos/1030/vis.png?partType=stars&partField=stellarComp-jwst_f200w-jwst_f115w-jwst_f070w&size=5.0&sizeType=rHalfMassStars',\n",
       "  'galaxy_stellar_light_faceon': 'http://www.tng-project.org/api/Illustris-3/snapshots/135/halos/1030/vis.png?partType=stars&partField=stellarComp-jwst_f200w-jwst_f115w-jwst_f070w&size=5.0&sizeType=rHalfMassStars&rotation=face-on'},\n",
       " 'meta': {'url': 'http://www.tng-project.org/api/Illustris-3/snapshots/135/subhalos/1030/',\n",
       "  'snapshot': 'http://www.tng-project.org/api/Illustris-3/snapshots/135/',\n",
       "  'simulation': 'http://www.tng-project.org/api/Illustris-3/',\n",
       "  'info': 'http://www.tng-project.org/api/Illustris-3/snapshots/135/subhalos/1030/info.json'}}"
      ]
     },
     "execution_count": 158,
     "metadata": {},
     "output_type": "execute_result"
    }
   ],
   "source": [
    "# get the full subhalo info for ID==1030\n",
    "sub = get(subs['results'][1]['url'])\n",
    "sub"
   ]
  },
  {
   "cell_type": "markdown",
   "metadata": {},
   "source": [
    "The response is a combo of numeric fields and links to related objects, as well as additional data."
   ]
  },
  {
   "cell_type": "code",
   "execution_count": 159,
   "metadata": {},
   "outputs": [
    {
     "data": {
      "text/plain": [
       "'http://www.tng-project.org/api/Illustris-3/snapshots/135/halos/2/info.json'"
      ]
     },
     "execution_count": 159,
     "metadata": {},
     "output_type": "execute_result"
    }
   ],
   "source": [
    "# directly request a group catalog field dump of the parent FoF halo\n",
    "url = sub['related']['parent_halo'] + \"info.json\"\n",
    "url"
   ]
  },
  {
   "cell_type": "code",
   "execution_count": 160,
   "metadata": {},
   "outputs": [
    {
     "data": {
      "text/plain": [
       "dict_keys(['SimulationName', 'SnapshotNumber', 'InfoType', 'InfoID', 'GroupBHMass', 'GroupBHMdot', 'GroupCM', 'GroupFirstSub', 'GroupFuzzOffsetType', 'GroupGasMetalFractions', 'GroupGasMetallicity', 'GroupLen', 'GroupLenType', 'GroupMass', 'GroupMassType', 'GroupNsubs', 'GroupPos', 'GroupSFR', 'GroupStarMetalFractions', 'GroupStarMetallicity', 'GroupVel', 'GroupWindMass', 'Group_M_Crit200', 'Group_M_Crit500', 'Group_M_Mean200', 'Group_M_TopHat200', 'Group_R_Crit200', 'Group_R_Crit500', 'Group_R_Mean200', 'Group_R_TopHat200', 'StellarMasses', 'TracerLength', 'TracerOffset'])"
      ]
     },
     "execution_count": 160,
     "metadata": {},
     "output_type": "execute_result"
    }
   ],
   "source": [
    "parent_fof = get(url)\n",
    "parent_fof.keys()"
   ]
  },
  {
   "cell_type": "markdown",
   "metadata": {},
   "source": [
    "We see that subhalo 1030 is indeed the central for this FoF 2, which has 366 total subhalos.\n",
    "\n",
    "Return to the subhalo - make some requests which return HDF5 data. Extend our helper function so that if it recieves a binary response, it saves it to a file with the appropriate name"
   ]
  },
  {
   "cell_type": "code",
   "execution_count": 161,
   "metadata": {},
   "outputs": [],
   "source": [
    "def get(path, params=None):\n",
    "    # make HTTP GET request to path\n",
    "    r = requests.get(path, params=params, headers=headers)\n",
    "    \n",
    "    # raise expectation if response code is not HTTP SUCESS (200)\n",
    "    r.raise_for_status()\n",
    "    \n",
    "    if r.headers['content-type'] == 'application/json':\n",
    "        return r.json() # parse json responses automatically\n",
    "    \n",
    "    if 'content-disposition' in r.headers:\n",
    "        filename = r.headers['content-disposition'].split(\"filename=\")[1]\n",
    "        with open(filename, 'wb') as f:\n",
    "            f.write(r.content)\n",
    "        return filename # return the filename string \n",
    "    \n",
    "    return r"
   ]
  },
  {
   "cell_type": "markdown",
   "metadata": {},
   "source": [
    "Request the main progenitor branch from the SubLink merger trees of this subhalo.\n"
   ]
  },
  {
   "cell_type": "code",
   "execution_count": 163,
   "metadata": {},
   "outputs": [
    {
     "name": "stdout",
     "output_type": "stream",
     "text": [
      "<KeysViewHDF5 ['DescendantID', 'FirstProgenitorID', 'FirstSubhaloInFOFGroupID', 'Group_M_Crit200', 'Group_M_Mean200', 'Group_M_TopHat200', 'LastProgenitorID', 'MainLeafProgenitorID', 'Mass', 'MassHistory', 'NextProgenitorID', 'NextSubhaloInFOFGroupID', 'NumParticles', 'RootDescendantID', 'SnapNum', 'SubfindID', 'SubhaloBHMass', 'SubhaloBHMdot', 'SubhaloCM', 'SubhaloGasMetallicity', 'SubhaloGasMetallicityHalfRad', 'SubhaloGasMetallicityMaxRad', 'SubhaloGasMetallicitySfr', 'SubhaloGasMetallicitySfrWeighted', 'SubhaloGrNr', 'SubhaloHalfmassRad', 'SubhaloHalfmassRadType', 'SubhaloID', 'SubhaloIDMostbound', 'SubhaloIDRaw', 'SubhaloLen', 'SubhaloLenType', 'SubhaloMass', 'SubhaloMassInHalfRad', 'SubhaloMassInHalfRadType', 'SubhaloMassInMaxRad', 'SubhaloMassInMaxRadType', 'SubhaloMassInRad', 'SubhaloMassInRadType', 'SubhaloMassType', 'SubhaloParent', 'SubhaloPos', 'SubhaloSFR', 'SubhaloSFRinHalfRad', 'SubhaloSFRinMaxRad', 'SubhaloSFRinRad', 'SubhaloSpin', 'SubhaloStarMetallicity', 'SubhaloStarMetallicityHalfRad', 'SubhaloStarMetallicityMaxRad', 'SubhaloStellarPhotometrics', 'SubhaloStellarPhotometricsMassInRad', 'SubhaloStellarPhotometricsRad', 'SubhaloVel', 'SubhaloVelDisp', 'SubhaloVmax', 'SubhaloVmaxRad', 'SubhaloWindMass', 'TreeID']>\n"
     ]
    }
   ],
   "source": [
    "import h5py\n",
    "mpb1 = get(sub['trees']['sublink_mpb']) # file saved, mpb1 contains the filename\n",
    "\n",
    "f = h5py.File(mpb1, 'r')\n",
    "print(f.keys())"
   ]
  },
  {
   "cell_type": "code",
   "execution_count": 164,
   "metadata": {},
   "outputs": [
    {
     "name": "stdout",
     "output_type": "stream",
     "text": [
      "104\n"
     ]
    }
   ],
   "source": [
    "print(len(f['SnapNum']))"
   ]
  },
  {
   "cell_type": "code",
   "execution_count": 165,
   "metadata": {},
   "outputs": [],
   "source": [
    "f.close()"
   ]
  },
  {
   "cell_type": "markdown",
   "metadata": {},
   "source": [
    "We see this subhalo was tracked back to snapshot 32 in the SubLink tree. For comparison, get the main progenitor branch from the LHaloTree."
   ]
  },
  {
   "cell_type": "code",
   "execution_count": 166,
   "metadata": {},
   "outputs": [],
   "source": [
    "mpb2 = get(sub['trees']['lhalotree_mpb']) # file saved, mpb2 contains the filename "
   ]
  },
  {
   "cell_type": "code",
   "execution_count": 167,
   "metadata": {},
   "outputs": [
    {
     "name": "stdout",
     "output_type": "stream",
     "text": [
      "104\n"
     ]
    }
   ],
   "source": [
    "with h5py.File(mpb2, 'r') as f:\n",
    "    print(len(f['SnapNum']))"
   ]
  },
  {
   "cell_type": "markdown",
   "metadata": {},
   "source": [
    "So the LHaloTree goes back to the same snapshot. Further inspection would show that in this case the tracking is similar (same z=0z=0 descendant), but not identical, which is often the case. Let's plot the evolution the subhalo position, along each coordinate axis, back in time."
   ]
  },
  {
   "cell_type": "code",
   "execution_count": 169,
   "metadata": {},
   "outputs": [],
   "source": [
    "with h5py.File(mpb2,'r') as f:\n",
    "    pos = f['SubhaloPos'][:]\n",
    "    snapnum = f['SnapNum'][:]\n",
    "    subid = f['SubhaloNumber'][:]"
   ]
  },
  {
   "cell_type": "code",
   "execution_count": 170,
   "metadata": {},
   "outputs": [
    {
     "data": {
      "text/plain": [
       "Text(0, 0.5, 'Pos$_{x,y,z}$(z) - Pos(z=0)')"
      ]
     },
     "execution_count": 170,
     "metadata": {},
     "output_type": "execute_result"
    },
    {
     "data": {
      "image/png": "[encoded data removed]",
      "text/plain": [
       "<Figure size 432x288 with 1 Axes>"
      ]
     },
     "metadata": {
      "needs_background": "light"
     },
     "output_type": "display_data"
    }
   ],
   "source": [
    "for i in range(3):\n",
    "    plt.plot(snapnum,pos[:,i] - pos[0,i], label=['x','y','z'][i])\n",
    "plt.legend()\n",
    "plt.xlabel('Snapshot Number')\n",
    "plt.ylabel('Pos$_{x,y,z}$(z) - Pos(z=0)')"
   ]
  },
  {
   "cell_type": "markdown",
   "metadata": {},
   "source": [
    "Finally, let's get an actual cutout of snapshot data. Our goal: an image of the gas density at z=1 progenitor of our subhalo\n",
    "\n",
    "What is the snapshot we are looking for"
   ]
  },
  {
   "cell_type": "code",
   "execution_count": 171,
   "metadata": {},
   "outputs": [],
   "source": [
    "url = sim['snapshots'] + \"z=1/\""
   ]
  },
  {
   "cell_type": "code",
   "execution_count": 172,
   "metadata": {},
   "outputs": [
    {
     "data": {
      "text/plain": [
       "'http://www.tng-project.org/api/Illustris-3/snapshots/z=1/'"
      ]
     },
     "execution_count": 172,
     "metadata": {},
     "output_type": "execute_result"
    }
   ],
   "source": [
    "url"
   ]
  },
  {
   "cell_type": "code",
   "execution_count": 173,
   "metadata": {},
   "outputs": [],
   "source": [
    "snap = get(url)"
   ]
  },
  {
   "cell_type": "code",
   "execution_count": 174,
   "metadata": {},
   "outputs": [
    {
     "data": {
      "text/plain": [
       "(85, 0.9972942257819399)"
      ]
     },
     "execution_count": 174,
     "metadata": {},
     "output_type": "execute_result"
    }
   ],
   "source": [
    "snap['number'], snap['redshift']"
   ]
  },
  {
   "cell_type": "markdown",
   "metadata": {},
   "source": [
    "Find the target Subfind ID at snapshot 85 using the Subtree link"
   ]
  },
  {
   "cell_type": "code",
   "execution_count": 176,
   "metadata": {},
   "outputs": [],
   "source": [
    "i = np.where(snapnum == 85)"
   ]
  },
  {
   "cell_type": "code",
   "execution_count": 202,
   "metadata": {},
   "outputs": [
    {
     "data": {
      "text/plain": [
       "array([185], dtype=int32)"
      ]
     },
     "execution_count": 202,
     "metadata": {},
     "output_type": "execute_result"
    }
   ],
   "source": [
    "subid[i]"
   ]
  },
  {
   "cell_type": "markdown",
   "metadata": {},
   "source": [
    "Request the subhalo details, and a snapshot cutout consisting only of Gas fields Coordinates, Masses"
   ]
  },
  {
   "cell_type": "code",
   "execution_count": 203,
   "metadata": {},
   "outputs": [],
   "source": [
    "sub_prog_url = 'http://www.tng-project.org/api/Illustris-3/snapshots/85/subhalos/185/'"
   ]
  },
  {
   "cell_type": "code",
   "execution_count": 204,
   "metadata": {},
   "outputs": [],
   "source": [
    "sub_prog = get(sub_prog_url)"
   ]
  },
  {
   "cell_type": "code",
   "execution_count": 205,
   "metadata": {},
   "outputs": [
    {
     "data": {
      "text/plain": [
       "(11013.3, 51469.6)"
      ]
     },
     "execution_count": 205,
     "metadata": {},
     "output_type": "execute_result"
    }
   ],
   "source": [
    "sub_prog['pos_x'], sub_prog['pos_y']"
   ]
  },
  {
   "cell_type": "code",
   "execution_count": 219,
   "metadata": {},
   "outputs": [],
   "source": [
    "cutout_request = {'gas':'Coordinates, Masses'}"
   ]
  },
  {
   "cell_type": "code",
   "execution_count": 220,
   "metadata": {},
   "outputs": [
    {
     "data": {
      "text/plain": [
       "{'gas': 'Coordinates, Masses'}"
      ]
     },
     "execution_count": 220,
     "metadata": {},
     "output_type": "execute_result"
    }
   ],
   "source": [
    "cutout_request"
   ]
  },
  {
   "cell_type": "code",
   "execution_count": 221,
   "metadata": {},
   "outputs": [],
   "source": [
    "sub = sub_prog_url+'cutout.hdf5'"
   ]
  },
  {
   "cell_type": "markdown",
   "metadata": {},
   "source": [
    "Make a quick 2d histogram visualization of the distribution of gas bound to this subhalo"
   ]
  },
  {
   "cell_type": "markdown",
   "metadata": {},
   "source": [
    "Getting a 403 error saying bad request for url - uncomment when figured out -- should get histogram"
   ]
  },
  {
   "cell_type": "code",
   "execution_count": 223,
   "metadata": {},
   "outputs": [],
   "source": [
    "#cutout = get(sub_prog_url+'cutout.hdf5', cutout_request)"
   ]
  },
  {
   "cell_type": "code",
   "execution_count": 217,
   "metadata": {},
   "outputs": [],
   "source": [
    "#with h5py.File(cutout,'r') as f:\n",
    "#    x = f['PartType0']['Coordinates'][:,0] - sub_prog['pos_x']\n",
    "#    y = f['PartType0']['Coordinates'][:,1] - sub_prog['pos_y']\n",
    "#    dens = np.log10(f['PartType0']['Masses'][:])\n",
    "\n",
    "#plt.hist2d(x,y,weights=dens,bins=[150,100])\n",
    "#plt.xlabel('$\\Delta x$ [ckpc/h]')\n",
    "#plt.ylabel('$\\Delta y$ [ckpc/h]');"
   ]
  },
  {
   "cell_type": "code",
   "execution_count": null,
   "metadata": {},
   "outputs": [],
   "source": []
  }
 ],
 "metadata": {
  "kernelspec": {
   "display_name": "Python 3",
   "language": "python",
   "name": "python3"
  },
  "language_info": {
   "codemirror_mode": {
    "name": "ipython",
    "version": 3
   },
   "file_extension": ".py",
   "mimetype": "text/x-python",
   "name": "python",
   "nbconvert_exporter": "python",
   "pygments_lexer": "ipython3",
   "version": "3.7.3"
  }
 },
 "nbformat": 4,
 "nbformat_minor": 2
}
